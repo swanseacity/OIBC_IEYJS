{
 "cells": [
  {
   "cell_type": "code",
   "execution_count": 1,
   "metadata": {},
   "outputs": [],
   "source": [
    "import pandas as pd\n",
    "import seaborn as sns\n",
    "import matplotlib.pyplot as plt"
   ]
  },
  {
   "cell_type": "code",
   "execution_count": 2,
   "metadata": {},
   "outputs": [],
   "source": [
    "gens = pd.read_csv(\"gens.csv\")\n",
    "incentive = pd.read_csv(\"incentive.csv\")\n",
    "pred = pd.read_csv(\"pred.csv\")\n",
    "real_w = pd.read_csv(\"weather_actual.csv\")\n",
    "pred_w = pd.read_csv(\"weather_forecast.csv\")"
   ]
  },
  {
   "cell_type": "code",
   "execution_count": 3,
   "metadata": {},
   "outputs": [
    {
     "data": {
      "text/html": [
       "<div>\n",
       "<style scoped>\n",
       "    .dataframe tbody tr th:only-of-type {\n",
       "        vertical-align: middle;\n",
       "    }\n",
       "\n",
       "    .dataframe tbody tr th {\n",
       "        vertical-align: top;\n",
       "    }\n",
       "\n",
       "    .dataframe thead th {\n",
       "        text-align: right;\n",
       "    }\n",
       "</style>\n",
       "<table border=\"1\" class=\"dataframe\">\n",
       "  <thead>\n",
       "    <tr style=\"text-align: right;\">\n",
       "      <th></th>\n",
       "      <th>model_id</th>\n",
       "      <th>incentive</th>\n",
       "      <th>is_utilizable</th>\n",
       "    </tr>\n",
       "  </thead>\n",
       "  <tbody>\n",
       "    <tr>\n",
       "      <th>count</th>\n",
       "      <td>57960.000000</td>\n",
       "      <td>57960.000000</td>\n",
       "      <td>57960.000000</td>\n",
       "    </tr>\n",
       "    <tr>\n",
       "      <th>mean</th>\n",
       "      <td>2.000000</td>\n",
       "      <td>26.787543</td>\n",
       "      <td>0.381643</td>\n",
       "    </tr>\n",
       "    <tr>\n",
       "      <th>std</th>\n",
       "      <td>1.414226</td>\n",
       "      <td>69.746116</td>\n",
       "      <td>0.485794</td>\n",
       "    </tr>\n",
       "    <tr>\n",
       "      <th>min</th>\n",
       "      <td>0.000000</td>\n",
       "      <td>0.000000</td>\n",
       "      <td>0.000000</td>\n",
       "    </tr>\n",
       "    <tr>\n",
       "      <th>25%</th>\n",
       "      <td>1.000000</td>\n",
       "      <td>0.000000</td>\n",
       "      <td>0.000000</td>\n",
       "    </tr>\n",
       "    <tr>\n",
       "      <th>50%</th>\n",
       "      <td>2.000000</td>\n",
       "      <td>0.000000</td>\n",
       "      <td>0.000000</td>\n",
       "    </tr>\n",
       "    <tr>\n",
       "      <th>75%</th>\n",
       "      <td>3.000000</td>\n",
       "      <td>0.000000</td>\n",
       "      <td>1.000000</td>\n",
       "    </tr>\n",
       "    <tr>\n",
       "      <th>max</th>\n",
       "      <td>4.000000</td>\n",
       "      <td>416.000000</td>\n",
       "      <td>1.000000</td>\n",
       "    </tr>\n",
       "  </tbody>\n",
       "</table>\n",
       "</div>"
      ],
      "text/plain": [
       "           model_id     incentive  is_utilizable\n",
       "count  57960.000000  57960.000000   57960.000000\n",
       "mean       2.000000     26.787543       0.381643\n",
       "std        1.414226     69.746116       0.485794\n",
       "min        0.000000      0.000000       0.000000\n",
       "25%        1.000000      0.000000       0.000000\n",
       "50%        2.000000      0.000000       0.000000\n",
       "75%        3.000000      0.000000       1.000000\n",
       "max        4.000000    416.000000       1.000000"
      ]
     },
     "execution_count": 3,
     "metadata": {},
     "output_type": "execute_result"
    }
   ],
   "source": [
    "incentive.describe()"
   ]
  },
  {
   "cell_type": "code",
   "execution_count": 4,
   "metadata": {},
   "outputs": [
    {
     "data": {
      "text/html": [
       "<div>\n",
       "<style scoped>\n",
       "    .dataframe tbody tr th:only-of-type {\n",
       "        vertical-align: middle;\n",
       "    }\n",
       "\n",
       "    .dataframe tbody tr th {\n",
       "        vertical-align: top;\n",
       "    }\n",
       "\n",
       "    .dataframe thead th {\n",
       "        text-align: right;\n",
       "    }\n",
       "</style>\n",
       "<table border=\"1\" class=\"dataframe\">\n",
       "  <thead>\n",
       "    <tr style=\"text-align: right;\">\n",
       "      <th></th>\n",
       "      <th>round</th>\n",
       "      <th>time</th>\n",
       "      <th>model_id</th>\n",
       "      <th>amount</th>\n",
       "    </tr>\n",
       "  </thead>\n",
       "  <tbody>\n",
       "    <tr>\n",
       "      <th>0</th>\n",
       "      <td>1</td>\n",
       "      <td>2022-06-19 01:00:00+09:00</td>\n",
       "      <td>0</td>\n",
       "      <td>0.0</td>\n",
       "    </tr>\n",
       "    <tr>\n",
       "      <th>1</th>\n",
       "      <td>1</td>\n",
       "      <td>2022-06-19 01:00:00+09:00</td>\n",
       "      <td>1</td>\n",
       "      <td>0.0</td>\n",
       "    </tr>\n",
       "    <tr>\n",
       "      <th>2</th>\n",
       "      <td>1</td>\n",
       "      <td>2022-06-19 01:00:00+09:00</td>\n",
       "      <td>2</td>\n",
       "      <td>0.0</td>\n",
       "    </tr>\n",
       "    <tr>\n",
       "      <th>3</th>\n",
       "      <td>1</td>\n",
       "      <td>2022-06-19 01:00:00+09:00</td>\n",
       "      <td>3</td>\n",
       "      <td>0.0</td>\n",
       "    </tr>\n",
       "    <tr>\n",
       "      <th>4</th>\n",
       "      <td>1</td>\n",
       "      <td>2022-06-19 01:00:00+09:00</td>\n",
       "      <td>4</td>\n",
       "      <td>0.0</td>\n",
       "    </tr>\n",
       "  </tbody>\n",
       "</table>\n",
       "</div>"
      ],
      "text/plain": [
       "   round                       time  model_id  amount\n",
       "0      1  2022-06-19 01:00:00+09:00         0     0.0\n",
       "1      1  2022-06-19 01:00:00+09:00         1     0.0\n",
       "2      1  2022-06-19 01:00:00+09:00         2     0.0\n",
       "3      1  2022-06-19 01:00:00+09:00         3     0.0\n",
       "4      1  2022-06-19 01:00:00+09:00         4     0.0"
      ]
     },
     "execution_count": 4,
     "metadata": {},
     "output_type": "execute_result"
    }
   ],
   "source": [
    "pred.head()"
   ]
  },
  {
   "cell_type": "markdown",
   "metadata": {},
   "source": [
    "# Incentive 식 구현\n",
    "### C = 99"
   ]
  },
  {
   "cell_type": "code",
   "execution_count": 5,
   "metadata": {},
   "outputs": [
    {
     "name": "stderr",
     "output_type": "stream",
     "text": [
      "C:\\Users\\Lenovo\\AppData\\Local\\Temp\\ipykernel_21128\\1739203997.py:4: UserWarning: Boolean Series key will be reindexed to match DataFrame index.\n",
      "  model0_pred = abs((pred[pred['model_id']==0][pred['round']==1].reset_index(drop=True).iloc[:100]['amount'] + pred[pred['model_id']==0][pred['round']==2].reset_index(drop=True).iloc[:100]['amount'])/2 - gens['amount'].reset_index(drop=True).iloc[:100])\n",
      "C:\\Users\\Lenovo\\AppData\\Local\\Temp\\ipykernel_21128\\1739203997.py:4: UserWarning: Boolean Series key will be reindexed to match DataFrame index.\n",
      "  model0_pred = abs((pred[pred['model_id']==0][pred['round']==1].reset_index(drop=True).iloc[:100]['amount'] + pred[pred['model_id']==0][pred['round']==2].reset_index(drop=True).iloc[:100]['amount'])/2 - gens['amount'].reset_index(drop=True).iloc[:100])\n",
      "C:\\Users\\Lenovo\\AppData\\Local\\Temp\\ipykernel_21128\\1739203997.py:14: UserWarning: Boolean Series key will be reindexed to match DataFrame index.\n",
      "  model0_pred.loc[(model0_pred['amount']/99*100>6) & (model0_pred['amount']/99*100<=8), 'result'] = 3*model0_pred[model0_pred['amount']/99*100>6][model0_pred['amount']/99*100<=8]['real']\n"
     ]
    },
    {
     "data": {
      "text/plain": [
       "<Axes: >"
      ]
     },
     "execution_count": 5,
     "metadata": {},
     "output_type": "execute_result"
    },
    {
     "data": {
      "image/png": "[encoded data removed]",
      "text/plain": [
       "<Figure size 640x480 with 1 Axes>"
      ]
     },
     "metadata": {},
     "output_type": "display_data"
    }
   ],
   "source": [
    "# incentive 직접 구하기 : 쌩 구현\n",
    "\n",
    "# 예측 오차(| |round1 예측 + round2 예측|/2 - 실제 값 |)\n",
    "model0_pred = abs((pred[pred['model_id']==0][pred['round']==1].reset_index(drop=True).iloc[:100]['amount'] + pred[pred['model_id']==0][pred['round']==2].reset_index(drop=True).iloc[:100]['amount'])/2 - gens['amount'].reset_index(drop=True).iloc[:100])\n",
    "modelG = gens['amount'].reset_index(drop=True).iloc[:100]\n",
    "model0_pred[incentive[incentive['model_id']==0].iloc[:100].reset_index(drop=True)['is_utilizable']==0] = 0\n",
    "model0_pred = pd.DataFrame(model0_pred)\n",
    "# 실제 발전량\n",
    "model0_pred['real'] = 0\n",
    "model0_pred['real'] = modelG\n",
    "# incentive(오차/99*100 -> ~6 x4 / 6~8 x3 / 8~ 0) *실제 발전량 < 9.9이면 0\n",
    "model0_pred['result'] = 0\n",
    "model0_pred.loc[model0_pred['amount']/99*100<=6, 'result'] = 4*model0_pred[model0_pred['amount']/99*100<=6]['real']\n",
    "model0_pred.loc[(model0_pred['amount']/99*100>6) & (model0_pred['amount']/99*100<=8), 'result'] = 3*model0_pred[model0_pred['amount']/99*100>6][model0_pred['amount']/99*100<=8]['real']\n",
    "model0_pred.loc[model0_pred['real']/99*100 < 10, 'result'] = 0 \n",
    "model0_pred['result'].plot()"
   ]
  },
  {
   "cell_type": "code",
   "execution_count": 6,
   "metadata": {},
   "outputs": [
    {
     "data": {
      "text/plain": [
       "<Axes: >"
      ]
     },
     "execution_count": 6,
     "metadata": {},
     "output_type": "execute_result"
    },
    {
     "data": {
      "image/png": "[encoded data removed]",
      "text/plain": [
       "<Figure size 640x480 with 1 Axes>"
      ]
     },
     "metadata": {},
     "output_type": "display_data"
    }
   ],
   "source": [
    "# 인센티브 데이터 셋 => 위와 동일한 결과 값!\n",
    "incentive[incentive['model_id']==0]['incentive'].iloc[:100].reset_index(drop=True).plot()"
   ]
  },
  {
   "cell_type": "markdown",
   "metadata": {},
   "source": [
    "# 결측치 처리\n",
    "### {pred.csv의 round2 결측치 & weather_forecast.csv의 round2 결측치} -> 해당 일자는 전부 제거"
   ]
  },
  {
   "cell_type": "code",
   "execution_count": 7,
   "metadata": {},
   "outputs": [
    {
     "data": {
      "text/plain": [
       "['2023-08-17 06:00:00+09:00',\n",
       " '2023-10-10 16:00:00+09:00',\n",
       " '2023-10-10 20:00:00+09:00',\n",
       " '2023-08-17 16:00:00+09:00',\n",
       " '2023-10-10 22:00:00+09:00',\n",
       " '2023-10-11 00:00:00+09:00',\n",
       " '2023-08-17 05:00:00+09:00',\n",
       " '2023-10-10 05:00:00+09:00',\n",
       " '2023-08-17 17:00:00+09:00',\n",
       " '2023-08-17 08:00:00+09:00',\n",
       " '2023-08-17 07:00:00+09:00',\n",
       " '2023-08-17 14:00:00+09:00',\n",
       " '2023-10-10 17:00:00+09:00',\n",
       " '2023-10-10 19:00:00+09:00',\n",
       " '2023-08-17 20:00:00+09:00',\n",
       " '2023-08-17 18:00:00+09:00',\n",
       " '2023-10-10 06:00:00+09:00',\n",
       " '2023-10-10 01:00:00+09:00',\n",
       " '2023-10-10 23:00:00+09:00',\n",
       " '2023-08-17 15:00:00+09:00',\n",
       " '2023-10-10 11:00:00+09:00',\n",
       " '2023-10-10 18:00:00+09:00',\n",
       " '2023-10-10 07:00:00+09:00',\n",
       " '2023-08-17 13:00:00+09:00',\n",
       " '2023-08-17 04:00:00+09:00',\n",
       " '2023-10-10 10:00:00+09:00',\n",
       " '2023-08-17 09:00:00+09:00',\n",
       " '2023-08-17 23:00:00+09:00',\n",
       " '2023-08-17 01:00:00+09:00',\n",
       " '2023-10-10 08:00:00+09:00',\n",
       " '2023-08-17 21:00:00+09:00',\n",
       " '2023-08-17 10:00:00+09:00',\n",
       " '2023-10-10 15:00:00+09:00',\n",
       " '2023-08-17 03:00:00+09:00',\n",
       " '2023-08-18 00:00:00+09:00',\n",
       " '2023-10-10 13:00:00+09:00',\n",
       " '2023-08-17 02:00:00+09:00',\n",
       " '2023-10-10 04:00:00+09:00',\n",
       " '2023-08-17 22:00:00+09:00',\n",
       " '2023-08-17 12:00:00+09:00',\n",
       " '2023-10-10 02:00:00+09:00',\n",
       " '2023-10-10 09:00:00+09:00',\n",
       " '2023-10-10 12:00:00+09:00',\n",
       " '2023-10-10 14:00:00+09:00',\n",
       " '2023-08-17 11:00:00+09:00',\n",
       " '2023-08-17 19:00:00+09:00',\n",
       " '2023-10-10 03:00:00+09:00',\n",
       " '2023-10-10 21:00:00+09:00']"
      ]
     },
     "execution_count": 7,
     "metadata": {},
     "output_type": "execute_result"
    }
   ],
   "source": [
    "model_round1_unique = (set(list(pred[pred['round']==1]['time'])) - set(list(pred[pred['round']==2]['time'])))\n",
    "weather_round1_unique = (set(list(pred_w[pred_w['round']==1]['time']))-set(list(pred_w[pred_w['round']==2]['time'])))\n",
    "null_time_list = list(model_round1_unique.union(weather_round1_unique))\n",
    "null_time_list"
   ]
  },
  {
   "cell_type": "code",
   "execution_count": 8,
   "metadata": {},
   "outputs": [],
   "source": [
    "import numpy as np\n",
    "for i in null_time_list:\n",
    "    pred[pred['time']==i] = np.nan\n",
    "    gens[gens['time']==i] = np.nan\n",
    "    real_w[real_w['time']==i] = np.nan\n",
    "    pred_w[pred_w['time']==i] = np.nan\n",
    "pred = pred.dropna()\n",
    "gens = gens.dropna()\n",
    "real_w = real_w.dropna()\n",
    "pred_w = pred_w.dropna()"
   ]
  },
  {
   "cell_type": "code",
   "execution_count": 9,
   "metadata": {},
   "outputs": [
    {
     "name": "stdout",
     "output_type": "stream",
     "text": [
      "11568.0 11568 11568 11568.0\n"
     ]
    }
   ],
   "source": [
    "# 최종 데이터\n",
    "print(len(pred)/5/2, len(gens), len(real_w), len(pred_w)/2)"
   ]
  },
  {
   "cell_type": "markdown",
   "metadata": {},
   "source": [
    "# 데이터 전처리 (X : weather, Y : amount)\n",
    "### 모델 별 {model X값, model Y값} => round1 : pred_data1_모델idx, round2 : pred_data2_모델idx\n",
    "### 실제 값 {실제 X값, 실제 Y값} => real_data"
   ]
  },
  {
   "cell_type": "code",
   "execution_count": 10,
   "metadata": {},
   "outputs": [],
   "source": [
    "def time2year(x):\n",
    "    temp = x.strip().split('-')\n",
    "    return int(temp[0])\n",
    "def time2month(x):\n",
    "    temp = x.strip().split('-')\n",
    "    return int(temp[1])\n",
    "def time2date(x):\n",
    "    temp = x.strip().split('-')\n",
    "    return int(temp[2][:2])\n",
    "def time2time(x):\n",
    "    temp = x.strip().split(' ')\n",
    "    return int(temp[1][:2])"
   ]
  },
  {
   "cell_type": "code",
   "execution_count": 11,
   "metadata": {},
   "outputs": [],
   "source": [
    "pred1 = pred[pred['round']==1].reset_index(drop=True).drop(['time','round'],axis=1)\n",
    "pred2 = pred[pred['round']==2].reset_index(drop=True).drop(['time','round'],axis=1)\n",
    "pred_w1 = pred_w[pred_w['round']==1].reset_index(drop=True).drop(['round'],axis=1)\n",
    "pred_w2 = pred_w[pred_w['round']==2].reset_index(drop=True).drop(['round'],axis=1)\n",
    "pred_w1['year'] = pred_w1['time'].apply(time2year)\n",
    "pred_w1['month'] = pred_w1['time'].apply(time2month)\n",
    "pred_w1['date'] = pred_w1['time'].apply(time2date)\n",
    "pred_w1['hour'] = pred_w1['time'].apply(time2time)\n",
    "pred_w1 = pred_w1.drop(['time'],axis=1)\n",
    "pred_w2['year'] = pred_w2['time'].apply(time2year)\n",
    "pred_w2['month'] = pred_w2['time'].apply(time2month)\n",
    "pred_w2['date'] = pred_w2['time'].apply(time2date)\n",
    "pred_w2['hour'] = pred_w2['time'].apply(time2time)\n",
    "pred_w2 = pred_w2.drop(['time'],axis=1)\n",
    "real_w['year'] = real_w['time'].apply(time2year)\n",
    "real_w['month'] = real_w['time'].apply(time2month)\n",
    "real_w['date'] = real_w['time'].apply(time2date)\n",
    "real_w['hour'] = real_w['time'].apply(time2time)\n",
    "real_w = real_w.drop(['time'],axis=1)\n",
    "for i in range(5):\n",
    "    exec(f\"pred_data1_{i} = pred1[pred1['model_id']==i].reset_index(drop=True).drop(['model_id'],axis=1)\")\n",
    "    exec(f\"pred_data2_{i} = pred2[pred2['model_id']==i].reset_index(drop=True).drop(['model_id'],axis=1)\")\n",
    "    exec(f\"pred_data1_{i} = pd.concat([pred_data1_{i}, pred_w1], axis=1).reset_index(drop=True)\")\n",
    "    exec(f\"pred_data2_{i} = pd.concat([pred_data2_{i}, pred_w2], axis=1).reset_index(drop=True)\")\n",
    "real_data = pd.concat([gens.drop(['time'],axis=1), real_w], axis=1).reset_index(drop=True)"
   ]
  },
  {
   "cell_type": "code",
   "execution_count": 12,
   "metadata": {},
   "outputs": [
    {
     "data": {
      "text/html": [
       "<div>\n",
       "<style scoped>\n",
       "    .dataframe tbody tr th:only-of-type {\n",
       "        vertical-align: middle;\n",
       "    }\n",
       "\n",
       "    .dataframe tbody tr th {\n",
       "        vertical-align: top;\n",
       "    }\n",
       "\n",
       "    .dataframe thead th {\n",
       "        text-align: right;\n",
       "    }\n",
       "</style>\n",
       "<table border=\"1\" class=\"dataframe\">\n",
       "  <thead>\n",
       "    <tr style=\"text-align: right;\">\n",
       "      <th></th>\n",
       "      <th>amount</th>\n",
       "      <th>cloud</th>\n",
       "      <th>temp</th>\n",
       "      <th>humidity</th>\n",
       "      <th>ground_press</th>\n",
       "      <th>wind_speed</th>\n",
       "      <th>wind_dir</th>\n",
       "      <th>rain</th>\n",
       "      <th>snow</th>\n",
       "      <th>dew_point</th>\n",
       "      <th>vis</th>\n",
       "      <th>uv_idx</th>\n",
       "      <th>azimuth</th>\n",
       "      <th>elevation</th>\n",
       "      <th>year</th>\n",
       "      <th>month</th>\n",
       "      <th>date</th>\n",
       "      <th>hour</th>\n",
       "    </tr>\n",
       "  </thead>\n",
       "  <tbody>\n",
       "    <tr>\n",
       "      <th>0</th>\n",
       "      <td>0.0</td>\n",
       "      <td>5.871524</td>\n",
       "      <td>23.030000</td>\n",
       "      <td>91.128476</td>\n",
       "      <td>1009.000000</td>\n",
       "      <td>2.394132</td>\n",
       "      <td>152.173538</td>\n",
       "      <td>0.0</td>\n",
       "      <td>0.0</td>\n",
       "      <td>20.193333</td>\n",
       "      <td>19.193333</td>\n",
       "      <td>0.0</td>\n",
       "      <td>6.704280</td>\n",
       "      <td>-31.529640</td>\n",
       "      <td>2022</td>\n",
       "      <td>6</td>\n",
       "      <td>19</td>\n",
       "      <td>1</td>\n",
       "    </tr>\n",
       "    <tr>\n",
       "      <th>1</th>\n",
       "      <td>0.0</td>\n",
       "      <td>5.000000</td>\n",
       "      <td>20.046829</td>\n",
       "      <td>92.000000</td>\n",
       "      <td>1009.000000</td>\n",
       "      <td>2.490000</td>\n",
       "      <td>133.000000</td>\n",
       "      <td>0.0</td>\n",
       "      <td>0.0</td>\n",
       "      <td>20.010169</td>\n",
       "      <td>16.100000</td>\n",
       "      <td>0.0</td>\n",
       "      <td>22.196370</td>\n",
       "      <td>-28.440428</td>\n",
       "      <td>2022</td>\n",
       "      <td>6</td>\n",
       "      <td>19</td>\n",
       "      <td>2</td>\n",
       "    </tr>\n",
       "    <tr>\n",
       "      <th>2</th>\n",
       "      <td>0.0</td>\n",
       "      <td>31.668514</td>\n",
       "      <td>20.275571</td>\n",
       "      <td>92.000000</td>\n",
       "      <td>1008.012749</td>\n",
       "      <td>2.340765</td>\n",
       "      <td>139.974501</td>\n",
       "      <td>0.0</td>\n",
       "      <td>0.0</td>\n",
       "      <td>20.304918</td>\n",
       "      <td>16.257377</td>\n",
       "      <td>0.0</td>\n",
       "      <td>35.919394</td>\n",
       "      <td>-22.437437</td>\n",
       "      <td>2022</td>\n",
       "      <td>6</td>\n",
       "      <td>19</td>\n",
       "      <td>3</td>\n",
       "    </tr>\n",
       "    <tr>\n",
       "      <th>3</th>\n",
       "      <td>0.0</td>\n",
       "      <td>100.000000</td>\n",
       "      <td>20.380388</td>\n",
       "      <td>93.000000</td>\n",
       "      <td>1008.000000</td>\n",
       "      <td>2.770000</td>\n",
       "      <td>142.000000</td>\n",
       "      <td>0.0</td>\n",
       "      <td>0.0</td>\n",
       "      <td>20.403077</td>\n",
       "      <td>19.004615</td>\n",
       "      <td>0.0</td>\n",
       "      <td>47.557714</td>\n",
       "      <td>-14.221450</td>\n",
       "      <td>2022</td>\n",
       "      <td>6</td>\n",
       "      <td>19</td>\n",
       "      <td>4</td>\n",
       "    </tr>\n",
       "    <tr>\n",
       "      <th>4</th>\n",
       "      <td>0.0</td>\n",
       "      <td>100.000000</td>\n",
       "      <td>22.030000</td>\n",
       "      <td>93.000000</td>\n",
       "      <td>1008.000000</td>\n",
       "      <td>2.557647</td>\n",
       "      <td>133.882353</td>\n",
       "      <td>0.0</td>\n",
       "      <td>0.0</td>\n",
       "      <td>20.495385</td>\n",
       "      <td>10.143077</td>\n",
       "      <td>0.0</td>\n",
       "      <td>57.378183</td>\n",
       "      <td>-4.444699</td>\n",
       "      <td>2022</td>\n",
       "      <td>6</td>\n",
       "      <td>19</td>\n",
       "      <td>5</td>\n",
       "    </tr>\n",
       "  </tbody>\n",
       "</table>\n",
       "</div>"
      ],
      "text/plain": [
       "   amount       cloud       temp   humidity  ground_press  wind_speed  \\\n",
       "0     0.0    5.871524  23.030000  91.128476   1009.000000    2.394132   \n",
       "1     0.0    5.000000  20.046829  92.000000   1009.000000    2.490000   \n",
       "2     0.0   31.668514  20.275571  92.000000   1008.012749    2.340765   \n",
       "3     0.0  100.000000  20.380388  93.000000   1008.000000    2.770000   \n",
       "4     0.0  100.000000  22.030000  93.000000   1008.000000    2.557647   \n",
       "\n",
       "     wind_dir  rain  snow  dew_point        vis  uv_idx    azimuth  elevation  \\\n",
       "0  152.173538   0.0   0.0  20.193333  19.193333     0.0   6.704280 -31.529640   \n",
       "1  133.000000   0.0   0.0  20.010169  16.100000     0.0  22.196370 -28.440428   \n",
       "2  139.974501   0.0   0.0  20.304918  16.257377     0.0  35.919394 -22.437437   \n",
       "3  142.000000   0.0   0.0  20.403077  19.004615     0.0  47.557714 -14.221450   \n",
       "4  133.882353   0.0   0.0  20.495385  10.143077     0.0  57.378183  -4.444699   \n",
       "\n",
       "   year  month  date  hour  \n",
       "0  2022      6    19     1  \n",
       "1  2022      6    19     2  \n",
       "2  2022      6    19     3  \n",
       "3  2022      6    19     4  \n",
       "4  2022      6    19     5  "
      ]
     },
     "execution_count": 12,
     "metadata": {},
     "output_type": "execute_result"
    }
   ],
   "source": [
    "real_data.head()"
   ]
  },
  {
   "cell_type": "code",
   "execution_count": 13,
   "metadata": {},
   "outputs": [
    {
     "data": {
      "text/html": [
       "<div>\n",
       "<style scoped>\n",
       "    .dataframe tbody tr th:only-of-type {\n",
       "        vertical-align: middle;\n",
       "    }\n",
       "\n",
       "    .dataframe tbody tr th {\n",
       "        vertical-align: top;\n",
       "    }\n",
       "\n",
       "    .dataframe thead th {\n",
       "        text-align: right;\n",
       "    }\n",
       "</style>\n",
       "<table border=\"1\" class=\"dataframe\">\n",
       "  <thead>\n",
       "    <tr style=\"text-align: right;\">\n",
       "      <th></th>\n",
       "      <th>amount</th>\n",
       "      <th>cloud</th>\n",
       "      <th>temp</th>\n",
       "      <th>humidity</th>\n",
       "      <th>ground_press</th>\n",
       "      <th>wind_speed</th>\n",
       "      <th>wind_dir</th>\n",
       "      <th>rain</th>\n",
       "      <th>snow</th>\n",
       "      <th>dew_point</th>\n",
       "      <th>vis</th>\n",
       "      <th>uv_idx</th>\n",
       "      <th>azimuth</th>\n",
       "      <th>elevation</th>\n",
       "      <th>year</th>\n",
       "      <th>month</th>\n",
       "      <th>date</th>\n",
       "      <th>hour</th>\n",
       "    </tr>\n",
       "  </thead>\n",
       "  <tbody>\n",
       "    <tr>\n",
       "      <th>0</th>\n",
       "      <td>0.0</td>\n",
       "      <td>6.0</td>\n",
       "      <td>20.03</td>\n",
       "      <td>93.0</td>\n",
       "      <td>1009.0</td>\n",
       "      <td>3.01</td>\n",
       "      <td>162.0</td>\n",
       "      <td>0.0</td>\n",
       "      <td>0.0</td>\n",
       "      <td>18.3333</td>\n",
       "      <td>16.0934</td>\n",
       "      <td>0.0</td>\n",
       "      <td>6.70428</td>\n",
       "      <td>-31.5296</td>\n",
       "      <td>2022</td>\n",
       "      <td>6</td>\n",
       "      <td>19</td>\n",
       "      <td>1</td>\n",
       "    </tr>\n",
       "    <tr>\n",
       "      <th>1</th>\n",
       "      <td>0.0</td>\n",
       "      <td>7.0</td>\n",
       "      <td>19.88</td>\n",
       "      <td>95.0</td>\n",
       "      <td>1009.0</td>\n",
       "      <td>3.16</td>\n",
       "      <td>159.0</td>\n",
       "      <td>0.0</td>\n",
       "      <td>0.0</td>\n",
       "      <td>18.3333</td>\n",
       "      <td>16.0934</td>\n",
       "      <td>0.0</td>\n",
       "      <td>22.19640</td>\n",
       "      <td>-28.4404</td>\n",
       "      <td>2022</td>\n",
       "      <td>6</td>\n",
       "      <td>19</td>\n",
       "      <td>2</td>\n",
       "    </tr>\n",
       "    <tr>\n",
       "      <th>2</th>\n",
       "      <td>0.0</td>\n",
       "      <td>17.0</td>\n",
       "      <td>19.99</td>\n",
       "      <td>96.0</td>\n",
       "      <td>1008.0</td>\n",
       "      <td>2.92</td>\n",
       "      <td>161.0</td>\n",
       "      <td>0.0</td>\n",
       "      <td>0.0</td>\n",
       "      <td>18.3333</td>\n",
       "      <td>16.0934</td>\n",
       "      <td>0.0</td>\n",
       "      <td>35.91940</td>\n",
       "      <td>-22.4374</td>\n",
       "      <td>2022</td>\n",
       "      <td>6</td>\n",
       "      <td>19</td>\n",
       "      <td>3</td>\n",
       "    </tr>\n",
       "    <tr>\n",
       "      <th>3</th>\n",
       "      <td>0.0</td>\n",
       "      <td>100.0</td>\n",
       "      <td>20.19</td>\n",
       "      <td>96.0</td>\n",
       "      <td>1008.0</td>\n",
       "      <td>2.79</td>\n",
       "      <td>157.0</td>\n",
       "      <td>0.0</td>\n",
       "      <td>0.0</td>\n",
       "      <td>17.7778</td>\n",
       "      <td>16.0934</td>\n",
       "      <td>0.0</td>\n",
       "      <td>47.55770</td>\n",
       "      <td>-14.2214</td>\n",
       "      <td>2022</td>\n",
       "      <td>6</td>\n",
       "      <td>19</td>\n",
       "      <td>4</td>\n",
       "    </tr>\n",
       "    <tr>\n",
       "      <th>4</th>\n",
       "      <td>0.0</td>\n",
       "      <td>100.0</td>\n",
       "      <td>20.34</td>\n",
       "      <td>95.0</td>\n",
       "      <td>1008.0</td>\n",
       "      <td>2.74</td>\n",
       "      <td>156.0</td>\n",
       "      <td>0.0</td>\n",
       "      <td>0.0</td>\n",
       "      <td>18.3333</td>\n",
       "      <td>16.0934</td>\n",
       "      <td>0.0</td>\n",
       "      <td>57.37820</td>\n",
       "      <td>-4.4447</td>\n",
       "      <td>2022</td>\n",
       "      <td>6</td>\n",
       "      <td>19</td>\n",
       "      <td>5</td>\n",
       "    </tr>\n",
       "  </tbody>\n",
       "</table>\n",
       "</div>"
      ],
      "text/plain": [
       "   amount  cloud   temp  humidity  ground_press  wind_speed  wind_dir  rain  \\\n",
       "0     0.0    6.0  20.03      93.0        1009.0        3.01     162.0   0.0   \n",
       "1     0.0    7.0  19.88      95.0        1009.0        3.16     159.0   0.0   \n",
       "2     0.0   17.0  19.99      96.0        1008.0        2.92     161.0   0.0   \n",
       "3     0.0  100.0  20.19      96.0        1008.0        2.79     157.0   0.0   \n",
       "4     0.0  100.0  20.34      95.0        1008.0        2.74     156.0   0.0   \n",
       "\n",
       "   snow  dew_point      vis  uv_idx   azimuth  elevation  year  month  date  \\\n",
       "0   0.0    18.3333  16.0934     0.0   6.70428   -31.5296  2022      6    19   \n",
       "1   0.0    18.3333  16.0934     0.0  22.19640   -28.4404  2022      6    19   \n",
       "2   0.0    18.3333  16.0934     0.0  35.91940   -22.4374  2022      6    19   \n",
       "3   0.0    17.7778  16.0934     0.0  47.55770   -14.2214  2022      6    19   \n",
       "4   0.0    18.3333  16.0934     0.0  57.37820    -4.4447  2022      6    19   \n",
       "\n",
       "   hour  \n",
       "0     1  \n",
       "1     2  \n",
       "2     3  \n",
       "3     4  \n",
       "4     5  "
      ]
     },
     "execution_count": 13,
     "metadata": {},
     "output_type": "execute_result"
    }
   ],
   "source": [
    "pred_data1_1.head()"
   ]
  },
  {
   "cell_type": "markdown",
   "metadata": {},
   "source": [
    "# Time 관련 EDA"
   ]
  },
  {
   "cell_type": "markdown",
   "metadata": {},
   "source": [
    "## Hour 기준 EDA"
   ]
  },
  {
   "cell_type": "code",
   "execution_count": 14,
   "metadata": {},
   "outputs": [
    {
     "data": {
      "text/plain": [
       "<Axes: xlabel='hour', ylabel='amount'>"
      ]
     },
     "execution_count": 14,
     "metadata": {},
     "output_type": "execute_result"
    },
    {
     "data": {
      "image/png": "[encoded data removed]",
      "text/plain": [
       "<Figure size 640x480 with 1 Axes>"
      ]
     },
     "metadata": {},
     "output_type": "display_data"
    }
   ],
   "source": [
    "# 시간별 실제 평균 발전량 : 시간대가 한국 기준이 맞는 듯\n",
    "sns.barplot(x=real_data.groupby('hour')['amount'].mean().index, y= real_data.groupby('hour')['amount'].mean())"
   ]
  },
  {
   "cell_type": "code",
   "execution_count": 15,
   "metadata": {},
   "outputs": [
    {
     "data": {
      "text/plain": [
       "<matplotlib.legend.Legend at 0x212b4fce790>"
      ]
     },
     "execution_count": 15,
     "metadata": {},
     "output_type": "execute_result"
    },
    {
     "data": {
      "image/png": "[encoded data removed]",
      "text/plain": [
       "<Figure size 640x480 with 1 Axes>"
      ]
     },
     "metadata": {},
     "output_type": "display_data"
    }
   ],
   "source": [
    "# 시간대별 |실제값 - 평균 예측 값|\n",
    "sns.barplot(x=pred_data1_0.groupby('hour')['amount'].mean().index, y= abs(real_data.groupby('hour')['amount'].mean()-(pred_data1_0.groupby('hour')['amount'].mean()+pred_data2_0.groupby('hour')['amount'].mean())/2), color='#ff0000', alpha=0.5, label='model0')\n",
    "sns.barplot(x=pred_data1_1.groupby('hour')['amount'].mean().index, y= abs(real_data.groupby('hour')['amount'].mean()-(pred_data1_1.groupby('hour')['amount'].mean()+pred_data2_1.groupby('hour')['amount'].mean())/2), color='#00ff00', alpha=0.5, label='model1')\n",
    "sns.barplot(x=pred_data1_2.groupby('hour')['amount'].mean().index, y= abs(real_data.groupby('hour')['amount'].mean()-(pred_data1_2.groupby('hour')['amount'].mean()+pred_data2_2.groupby('hour')['amount'].mean())/2), color='#0000ff', alpha=0.5, label='model2')\n",
    "sns.barplot(x=pred_data1_3.groupby('hour')['amount'].mean().index, y= abs(real_data.groupby('hour')['amount'].mean()-(pred_data1_3.groupby('hour')['amount'].mean()+pred_data2_3.groupby('hour')['amount'].mean())/2), color='#999900', alpha=0.5, label='model3')\n",
    "sns.barplot(x=pred_data1_4.groupby('hour')['amount'].mean().index, y= abs(real_data.groupby('hour')['amount'].mean()-(pred_data1_4.groupby('hour')['amount'].mean()+pred_data2_4.groupby('hour')['amount'].mean())/2), color='#009999', alpha=0.5, label='model4')\n",
    "plt.legend()"
   ]
  },
  {
   "cell_type": "code",
   "execution_count": 16,
   "metadata": {},
   "outputs": [
    {
     "data": {
      "text/plain": [
       "<matplotlib.legend.Legend at 0x212baa9f7f0>"
      ]
     },
     "execution_count": 16,
     "metadata": {},
     "output_type": "execute_result"
    },
    {
     "data": {
      "image/png": "[encoded data removed]",
      "text/plain": [
       "<Figure size 640x480 with 1 Axes>"
      ]
     },
     "metadata": {},
     "output_type": "display_data"
    }
   ],
   "source": [
    "# 시간대별 실제값 - 평균 예측 값 : model4는 전체적으로 조금 더 낮게 예측하는 경향이 있음\n",
    "sns.barplot(x=pred_data1_0.groupby('hour')['amount'].mean().index, y= (real_data.groupby('hour')['amount'].mean()-(pred_data1_0.groupby('hour')['amount'].mean()+pred_data2_0.groupby('hour')['amount'].mean())/2), color='#ff0000', alpha=0.5, label='model0')\n",
    "sns.barplot(x=pred_data1_1.groupby('hour')['amount'].mean().index, y= (real_data.groupby('hour')['amount'].mean()-(pred_data1_1.groupby('hour')['amount'].mean()+pred_data2_1.groupby('hour')['amount'].mean())/2), color='#00ff00', alpha=0.5, label='model1')\n",
    "sns.barplot(x=pred_data1_2.groupby('hour')['amount'].mean().index, y= (real_data.groupby('hour')['amount'].mean()-(pred_data1_2.groupby('hour')['amount'].mean()+pred_data2_2.groupby('hour')['amount'].mean())/2), color='#0000ff', alpha=0.5, label='model2')\n",
    "sns.barplot(x=pred_data1_3.groupby('hour')['amount'].mean().index, y= (real_data.groupby('hour')['amount'].mean()-(pred_data1_3.groupby('hour')['amount'].mean()+pred_data2_3.groupby('hour')['amount'].mean())/2), color='#999900', alpha=0.5, label='model3')\n",
    "sns.barplot(x=pred_data1_4.groupby('hour')['amount'].mean().index, y= (real_data.groupby('hour')['amount'].mean()-(pred_data1_4.groupby('hour')['amount'].mean()+pred_data2_4.groupby('hour')['amount'].mean())/2), color='#009999', alpha=0.5, label='model4')\n",
    "plt.legend()"
   ]
  },
  {
   "cell_type": "code",
   "execution_count": 17,
   "metadata": {},
   "outputs": [
    {
     "data": {
      "text/plain": [
       "<matplotlib.legend.Legend at 0x212b4f4e340>"
      ]
     },
     "execution_count": 17,
     "metadata": {},
     "output_type": "execute_result"
    },
    {
     "data": {
      "image/png": "[encoded data removed]",
      "text/plain": [
       "<Figure size 640x480 with 1 Axes>"
      ]
     },
     "metadata": {},
     "output_type": "display_data"
    }
   ],
   "source": [
    "# 시간대별 오차 절댓값 평균 : model4 그냥 갖다 던질까?\n",
    "for i in range(5):\n",
    "    exec(f\"pred_data1_{i}['error'] = abs(real_data['amount']-(pred_data1_{i}['amount']+pred_data2_{i}['amount'])/2)\")\n",
    "    exec(f\"pred_data2_{i}['error'] = abs(real_data['amount']-(pred_data1_{i}['amount']+pred_data2_{i}['amount'])/2)\")\n",
    "sns.barplot(x=pred_data1_0.groupby('hour')['error'].mean().index, y= (pred_data1_0.groupby('hour')['error'].mean()), color='#ff0000', alpha=0.5, label='model0')\n",
    "sns.barplot(x=pred_data1_1.groupby('hour')['error'].mean().index, y= (pred_data1_1.groupby('hour')['error'].mean()), color='#00ff00', alpha=0.5, label='model1')\n",
    "sns.barplot(x=pred_data1_2.groupby('hour')['error'].mean().index, y= (pred_data1_2.groupby('hour')['error'].mean()), color='#0000ff', alpha=0.5, label='model2')\n",
    "sns.barplot(x=pred_data1_3.groupby('hour')['error'].mean().index, y= (pred_data1_3.groupby('hour')['error'].mean()), color='#999900', alpha=0.5, label='model3')\n",
    "sns.barplot(x=pred_data1_4.groupby('hour')['error'].mean().index, y= (pred_data1_4.groupby('hour')['error'].mean()), color='#009999', alpha=0.5, label='model4')\n",
    "plt.legend()"
   ]
  },
  {
   "cell_type": "markdown",
   "metadata": {},
   "source": [
    "## Date 기준 EDA"
   ]
  },
  {
   "cell_type": "code",
   "execution_count": 18,
   "metadata": {},
   "outputs": [
    {
     "data": {
      "text/plain": [
       "<Axes: xlabel='date', ylabel='amount'>"
      ]
     },
     "execution_count": 18,
     "metadata": {},
     "output_type": "execute_result"
    },
    {
     "data": {
      "image/png": "[encoded data removed]",
      "text/plain": [
       "<Figure size 640x480 with 1 Axes>"
      ]
     },
     "metadata": {},
     "output_type": "display_data"
    }
   ],
   "source": [
    "# Domain Shift 같은 것들은 확인하기 어려운 듯\n",
    "sns.barplot(x=real_data.groupby('date')['amount'].mean().index, y= real_data.groupby('date')['amount'].mean())"
   ]
  },
  {
   "cell_type": "markdown",
   "metadata": {},
   "source": [
    "## Month 기준 EDA"
   ]
  },
  {
   "cell_type": "code",
   "execution_count": 19,
   "metadata": {},
   "outputs": [
    {
     "data": {
      "text/plain": [
       "<Axes: xlabel='month', ylabel='amount'>"
      ]
     },
     "execution_count": 19,
     "metadata": {},
     "output_type": "execute_result"
    },
    {
     "data": {
      "image/png": "[encoded data removed]",
      "text/plain": [
       "<Figure size 640x480 with 1 Axes>"
      ]
     },
     "metadata": {},
     "output_type": "display_data"
    }
   ],
   "source": [
    "# ???? 여름이 왜 낮지? -> 상식과는 좀 달라...\n",
    "sns.barplot(x=real_data.groupby('month')['amount'].mean().index, y= real_data.groupby('month')['amount'].mean())"
   ]
  },
  {
   "cell_type": "code",
   "execution_count": 20,
   "metadata": {},
   "outputs": [
    {
     "data": {
      "text/plain": [
       "<matplotlib.legend.Legend at 0x212bb760fa0>"
      ]
     },
     "execution_count": 20,
     "metadata": {},
     "output_type": "execute_result"
    },
    {
     "data": {
      "image/png": "[encoded data removed]",
      "text/plain": [
       "<Figure size 640x480 with 1 Axes>"
      ]
     },
     "metadata": {},
     "output_type": "display_data"
    }
   ],
   "source": [
    "# 모델들이... 월의 영향도 좀 받는 것 같기도 하고...\n",
    "sns.barplot(x=pred_data1_0.groupby('month')['error'].mean().index, y= (pred_data1_0.groupby('month')['error'].mean()), color='#ff0000', alpha=0.5, label='model0')\n",
    "sns.barplot(x=pred_data1_1.groupby('month')['error'].mean().index, y= (pred_data1_1.groupby('month')['error'].mean()), color='#00ff00', alpha=0.5, label='model1')\n",
    "sns.barplot(x=pred_data1_2.groupby('month')['error'].mean().index, y= (pred_data1_2.groupby('month')['error'].mean()), color='#0000ff', alpha=0.5, label='model2')\n",
    "sns.barplot(x=pred_data1_3.groupby('month')['error'].mean().index, y= (pred_data1_3.groupby('month')['error'].mean()), color='#999900', alpha=0.5, label='model3')\n",
    "sns.barplot(x=pred_data1_4.groupby('month')['error'].mean().index, y= (pred_data1_4.groupby('month')['error'].mean()), color='#009999', alpha=0.5, label='model4')\n",
    "plt.legend()"
   ]
  },
  {
   "cell_type": "code",
   "execution_count": null,
   "metadata": {},
   "outputs": [],
   "source": []
  }
 ],
 "metadata": {
  "kernelspec": {
   "display_name": "Python 3",
   "language": "python",
   "name": "python3"
  },
  "language_info": {
   "codemirror_mode": {
    "name": "ipython",
    "version": 3
   },
   "file_extension": ".py",
   "mimetype": "text/x-python",
   "name": "python",
   "nbconvert_exporter": "python",
   "pygments_lexer": "ipython3",
   "version": "3.9.13"
  }
 },
 "nbformat": 4,
 "nbformat_minor": 2
}
