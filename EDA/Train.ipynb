{
 "cells": [
  {
   "cell_type": "code",
   "execution_count": 246,
   "metadata": {},
   "outputs": [],
   "source": [
    "from tqdm import tqdm\n",
    "import pandas as pd\n",
    "import numpy as np\n",
    "import seaborn as sns\n",
    "import matplotlib.pyplot as plt\n",
    "import copy\n",
    "import os\n",
    "import random\n",
    "import pandas as pd\n",
    "import numpy as np\n",
    "from tqdm.auto import tqdm\n",
    "import xgboost as xgb\n",
    "from scipy.spatial.distance import squareform, pdist\n",
    "from sklearn.manifold import MDS\n",
    "from sklearn.preprocessing import MinMaxScaler, StandardScaler\n",
    "import torch\n",
    "import torch.nn as nn\n",
    "import torch.optim as optim\n",
    "import torch.nn.functional as F\n",
    "from torch.utils.data import Dataset, DataLoader\n",
    "from sklearn.preprocessing import StandardScaler\n",
    "import numpy as np\n",
    "from sklearn.metrics import DistanceMetric\n",
    "from sklearn.preprocessing import RobustScaler\n",
    "from sklearn.decomposition import PCA\n",
    "import numpy as np\n",
    "from sklearn.mixture import GaussianMixture\n",
    "from matplotlib import pyplot as plt\n",
    "import seaborn as sns\n",
    "from scipy.spatial.distance import cdist\n",
    "from sklearn.metrics import silhouette_score\n",
    "from tqdm import tqdm\n",
    "import random"
   ]
  },
  {
   "cell_type": "markdown",
   "metadata": {},
   "source": [
    "# 전처리"
   ]
  },
  {
   "cell_type": "markdown",
   "metadata": {},
   "source": [
    "## 데이터 전처리"
   ]
  },
  {
   "cell_type": "markdown",
   "metadata": {},
   "source": [
    "### Round1의 weather 예측값 전처리(Expert model의 input)"
   ]
  },
  {
   "cell_type": "code",
   "execution_count": 247,
   "metadata": {},
   "outputs": [
    {
     "data": {
      "text/html": [
       "<div>\n",
       "<style scoped>\n",
       "    .dataframe tbody tr th:only-of-type {\n",
       "        vertical-align: middle;\n",
       "    }\n",
       "\n",
       "    .dataframe tbody tr th {\n",
       "        vertical-align: top;\n",
       "    }\n",
       "\n",
       "    .dataframe thead th {\n",
       "        text-align: right;\n",
       "    }\n",
       "</style>\n",
       "<table border=\"1\" class=\"dataframe\">\n",
       "  <thead>\n",
       "    <tr style=\"text-align: right;\">\n",
       "      <th></th>\n",
       "      <th>cloud</th>\n",
       "      <th>temp</th>\n",
       "      <th>humidity</th>\n",
       "      <th>ground_press</th>\n",
       "      <th>wind_speed</th>\n",
       "      <th>wind_dir</th>\n",
       "      <th>rain</th>\n",
       "      <th>snow</th>\n",
       "      <th>dew_point</th>\n",
       "      <th>vis</th>\n",
       "      <th>uv_idx</th>\n",
       "      <th>azimuth</th>\n",
       "      <th>elevation</th>\n",
       "    </tr>\n",
       "  </thead>\n",
       "  <tbody>\n",
       "    <tr>\n",
       "      <th>0</th>\n",
       "      <td>5.871524</td>\n",
       "      <td>23.030000</td>\n",
       "      <td>91.128476</td>\n",
       "      <td>1009.000000</td>\n",
       "      <td>2.394132</td>\n",
       "      <td>152.173538</td>\n",
       "      <td>0.0</td>\n",
       "      <td>0.0</td>\n",
       "      <td>20.193333</td>\n",
       "      <td>19.193333</td>\n",
       "      <td>0.0</td>\n",
       "      <td>6.704280</td>\n",
       "      <td>-31.529640</td>\n",
       "    </tr>\n",
       "    <tr>\n",
       "      <th>1</th>\n",
       "      <td>5.000000</td>\n",
       "      <td>20.046829</td>\n",
       "      <td>92.000000</td>\n",
       "      <td>1009.000000</td>\n",
       "      <td>2.490000</td>\n",
       "      <td>133.000000</td>\n",
       "      <td>0.0</td>\n",
       "      <td>0.0</td>\n",
       "      <td>20.010169</td>\n",
       "      <td>16.100000</td>\n",
       "      <td>0.0</td>\n",
       "      <td>22.196370</td>\n",
       "      <td>-28.440428</td>\n",
       "    </tr>\n",
       "    <tr>\n",
       "      <th>2</th>\n",
       "      <td>31.668514</td>\n",
       "      <td>20.275571</td>\n",
       "      <td>92.000000</td>\n",
       "      <td>1008.012749</td>\n",
       "      <td>2.340765</td>\n",
       "      <td>139.974501</td>\n",
       "      <td>0.0</td>\n",
       "      <td>0.0</td>\n",
       "      <td>20.304918</td>\n",
       "      <td>16.257377</td>\n",
       "      <td>0.0</td>\n",
       "      <td>35.919394</td>\n",
       "      <td>-22.437437</td>\n",
       "    </tr>\n",
       "    <tr>\n",
       "      <th>3</th>\n",
       "      <td>100.000000</td>\n",
       "      <td>20.380388</td>\n",
       "      <td>93.000000</td>\n",
       "      <td>1008.000000</td>\n",
       "      <td>2.770000</td>\n",
       "      <td>142.000000</td>\n",
       "      <td>0.0</td>\n",
       "      <td>0.0</td>\n",
       "      <td>20.403077</td>\n",
       "      <td>19.004615</td>\n",
       "      <td>0.0</td>\n",
       "      <td>47.557714</td>\n",
       "      <td>-14.221450</td>\n",
       "    </tr>\n",
       "    <tr>\n",
       "      <th>4</th>\n",
       "      <td>100.000000</td>\n",
       "      <td>22.030000</td>\n",
       "      <td>93.000000</td>\n",
       "      <td>1008.000000</td>\n",
       "      <td>2.557647</td>\n",
       "      <td>133.882353</td>\n",
       "      <td>0.0</td>\n",
       "      <td>0.0</td>\n",
       "      <td>20.495385</td>\n",
       "      <td>10.143077</td>\n",
       "      <td>0.0</td>\n",
       "      <td>57.378183</td>\n",
       "      <td>-4.444699</td>\n",
       "    </tr>\n",
       "    <tr>\n",
       "      <th>...</th>\n",
       "      <td>...</td>\n",
       "      <td>...</td>\n",
       "      <td>...</td>\n",
       "      <td>...</td>\n",
       "      <td>...</td>\n",
       "      <td>...</td>\n",
       "      <td>...</td>\n",
       "      <td>...</td>\n",
       "      <td>...</td>\n",
       "      <td>...</td>\n",
       "      <td>...</td>\n",
       "      <td>...</td>\n",
       "      <td>...</td>\n",
       "    </tr>\n",
       "    <tr>\n",
       "      <th>11611</th>\n",
       "      <td>0.000000</td>\n",
       "      <td>18.807459</td>\n",
       "      <td>70.000000</td>\n",
       "      <td>1014.000000</td>\n",
       "      <td>6.320000</td>\n",
       "      <td>307.000000</td>\n",
       "      <td>0.0</td>\n",
       "      <td>0.0</td>\n",
       "      <td>13.204762</td>\n",
       "      <td>16.100000</td>\n",
       "      <td>0.0</td>\n",
       "      <td>277.464745</td>\n",
       "      <td>-25.379191</td>\n",
       "    </tr>\n",
       "    <tr>\n",
       "      <th>11612</th>\n",
       "      <td>0.000000</td>\n",
       "      <td>17.918518</td>\n",
       "      <td>67.888518</td>\n",
       "      <td>1015.000000</td>\n",
       "      <td>5.553144</td>\n",
       "      <td>306.554073</td>\n",
       "      <td>0.0</td>\n",
       "      <td>0.0</td>\n",
       "      <td>13.300000</td>\n",
       "      <td>16.100000</td>\n",
       "      <td>0.0</td>\n",
       "      <td>287.678638</td>\n",
       "      <td>-37.409688</td>\n",
       "    </tr>\n",
       "    <tr>\n",
       "      <th>11613</th>\n",
       "      <td>0.000000</td>\n",
       "      <td>17.030000</td>\n",
       "      <td>67.000000</td>\n",
       "      <td>1015.000000</td>\n",
       "      <td>5.100000</td>\n",
       "      <td>303.000000</td>\n",
       "      <td>0.0</td>\n",
       "      <td>0.0</td>\n",
       "      <td>13.055738</td>\n",
       "      <td>20.349180</td>\n",
       "      <td>0.0</td>\n",
       "      <td>301.007172</td>\n",
       "      <td>-48.655175</td>\n",
       "    </tr>\n",
       "    <tr>\n",
       "      <th>11614</th>\n",
       "      <td>0.000000</td>\n",
       "      <td>18.730542</td>\n",
       "      <td>67.000000</td>\n",
       "      <td>1015.000000</td>\n",
       "      <td>5.190000</td>\n",
       "      <td>297.000000</td>\n",
       "      <td>0.0</td>\n",
       "      <td>0.0</td>\n",
       "      <td>12.183333</td>\n",
       "      <td>9.590000</td>\n",
       "      <td>0.0</td>\n",
       "      <td>320.433966</td>\n",
       "      <td>-58.056463</td>\n",
       "    </tr>\n",
       "    <tr>\n",
       "      <th>11615</th>\n",
       "      <td>0.000000</td>\n",
       "      <td>14.030000</td>\n",
       "      <td>66.000000</td>\n",
       "      <td>1015.000000</td>\n",
       "      <td>5.360000</td>\n",
       "      <td>293.000000</td>\n",
       "      <td>0.0</td>\n",
       "      <td>0.0</td>\n",
       "      <td>11.700000</td>\n",
       "      <td>6.400000</td>\n",
       "      <td>0.0</td>\n",
       "      <td>349.065111</td>\n",
       "      <td>-63.421759</td>\n",
       "    </tr>\n",
       "  </tbody>\n",
       "</table>\n",
       "<p>11616 rows × 13 columns</p>\n",
       "</div>"
      ],
      "text/plain": [
       "            cloud       temp   humidity  ground_press  wind_speed    wind_dir  \\\n",
       "0        5.871524  23.030000  91.128476   1009.000000    2.394132  152.173538   \n",
       "1        5.000000  20.046829  92.000000   1009.000000    2.490000  133.000000   \n",
       "2       31.668514  20.275571  92.000000   1008.012749    2.340765  139.974501   \n",
       "3      100.000000  20.380388  93.000000   1008.000000    2.770000  142.000000   \n",
       "4      100.000000  22.030000  93.000000   1008.000000    2.557647  133.882353   \n",
       "...           ...        ...        ...           ...         ...         ...   \n",
       "11611    0.000000  18.807459  70.000000   1014.000000    6.320000  307.000000   \n",
       "11612    0.000000  17.918518  67.888518   1015.000000    5.553144  306.554073   \n",
       "11613    0.000000  17.030000  67.000000   1015.000000    5.100000  303.000000   \n",
       "11614    0.000000  18.730542  67.000000   1015.000000    5.190000  297.000000   \n",
       "11615    0.000000  14.030000  66.000000   1015.000000    5.360000  293.000000   \n",
       "\n",
       "       rain  snow  dew_point        vis  uv_idx     azimuth  elevation  \n",
       "0       0.0   0.0  20.193333  19.193333     0.0    6.704280 -31.529640  \n",
       "1       0.0   0.0  20.010169  16.100000     0.0   22.196370 -28.440428  \n",
       "2       0.0   0.0  20.304918  16.257377     0.0   35.919394 -22.437437  \n",
       "3       0.0   0.0  20.403077  19.004615     0.0   47.557714 -14.221450  \n",
       "4       0.0   0.0  20.495385  10.143077     0.0   57.378183  -4.444699  \n",
       "...     ...   ...        ...        ...     ...         ...        ...  \n",
       "11611   0.0   0.0  13.204762  16.100000     0.0  277.464745 -25.379191  \n",
       "11612   0.0   0.0  13.300000  16.100000     0.0  287.678638 -37.409688  \n",
       "11613   0.0   0.0  13.055738  20.349180     0.0  301.007172 -48.655175  \n",
       "11614   0.0   0.0  12.183333   9.590000     0.0  320.433966 -58.056463  \n",
       "11615   0.0   0.0  11.700000   6.400000     0.0  349.065111 -63.421759  \n",
       "\n",
       "[11616 rows x 13 columns]"
      ]
     },
     "execution_count": 247,
     "metadata": {},
     "output_type": "execute_result"
    }
   ],
   "source": [
    "weather_real = pd.read_csv(\"./OIBC2023_data/weather_actual.csv\")\n",
    "weather_real = weather_real.drop(['time'],axis=1)\n",
    "weather_real"
   ]
  },
  {
   "cell_type": "code",
   "execution_count": 248,
   "metadata": {},
   "outputs": [
    {
     "data": {
      "text/html": [
       "<div>\n",
       "<style scoped>\n",
       "    .dataframe tbody tr th:only-of-type {\n",
       "        vertical-align: middle;\n",
       "    }\n",
       "\n",
       "    .dataframe tbody tr th {\n",
       "        vertical-align: top;\n",
       "    }\n",
       "\n",
       "    .dataframe thead th {\n",
       "        text-align: right;\n",
       "    }\n",
       "</style>\n",
       "<table border=\"1\" class=\"dataframe\">\n",
       "  <thead>\n",
       "    <tr style=\"text-align: right;\">\n",
       "      <th></th>\n",
       "      <th>0</th>\n",
       "      <th>1</th>\n",
       "      <th>2</th>\n",
       "      <th>3</th>\n",
       "      <th>4</th>\n",
       "      <th>5</th>\n",
       "      <th>6</th>\n",
       "      <th>7</th>\n",
       "      <th>8</th>\n",
       "      <th>9</th>\n",
       "      <th>10</th>\n",
       "      <th>11</th>\n",
       "      <th>12</th>\n",
       "    </tr>\n",
       "  </thead>\n",
       "  <tbody>\n",
       "    <tr>\n",
       "      <th>0</th>\n",
       "      <td>0.06</td>\n",
       "      <td>0.721352</td>\n",
       "      <td>0.898551</td>\n",
       "      <td>0.431373</td>\n",
       "      <td>0.126821</td>\n",
       "      <td>0.450000</td>\n",
       "      <td>0.0</td>\n",
       "      <td>0.0</td>\n",
       "      <td>0.794519</td>\n",
       "      <td>0.829786</td>\n",
       "      <td>0.0</td>\n",
       "      <td>0.003232</td>\n",
       "      <td>0.295698</td>\n",
       "    </tr>\n",
       "    <tr>\n",
       "      <th>1</th>\n",
       "      <td>0.07</td>\n",
       "      <td>0.717230</td>\n",
       "      <td>0.927536</td>\n",
       "      <td>0.431373</td>\n",
       "      <td>0.133248</td>\n",
       "      <td>0.441667</td>\n",
       "      <td>0.0</td>\n",
       "      <td>0.0</td>\n",
       "      <td>0.794519</td>\n",
       "      <td>0.829786</td>\n",
       "      <td>0.0</td>\n",
       "      <td>0.048040</td>\n",
       "      <td>0.315648</td>\n",
       "    </tr>\n",
       "    <tr>\n",
       "      <th>2</th>\n",
       "      <td>0.17</td>\n",
       "      <td>0.720253</td>\n",
       "      <td>0.942029</td>\n",
       "      <td>0.411765</td>\n",
       "      <td>0.122965</td>\n",
       "      <td>0.447222</td>\n",
       "      <td>0.0</td>\n",
       "      <td>0.0</td>\n",
       "      <td>0.794519</td>\n",
       "      <td>0.829786</td>\n",
       "      <td>0.0</td>\n",
       "      <td>0.087732</td>\n",
       "      <td>0.354414</td>\n",
       "    </tr>\n",
       "    <tr>\n",
       "      <th>3</th>\n",
       "      <td>1.00</td>\n",
       "      <td>0.725749</td>\n",
       "      <td>0.942029</td>\n",
       "      <td>0.411765</td>\n",
       "      <td>0.117395</td>\n",
       "      <td>0.436111</td>\n",
       "      <td>0.0</td>\n",
       "      <td>0.0</td>\n",
       "      <td>0.780822</td>\n",
       "      <td>0.829786</td>\n",
       "      <td>0.0</td>\n",
       "      <td>0.121393</td>\n",
       "      <td>0.407472</td>\n",
       "    </tr>\n",
       "    <tr>\n",
       "      <th>4</th>\n",
       "      <td>1.00</td>\n",
       "      <td>0.729871</td>\n",
       "      <td>0.927536</td>\n",
       "      <td>0.411765</td>\n",
       "      <td>0.115253</td>\n",
       "      <td>0.433333</td>\n",
       "      <td>0.0</td>\n",
       "      <td>0.0</td>\n",
       "      <td>0.794519</td>\n",
       "      <td>0.829786</td>\n",
       "      <td>0.0</td>\n",
       "      <td>0.149797</td>\n",
       "      <td>0.470608</td>\n",
       "    </tr>\n",
       "    <tr>\n",
       "      <th>...</th>\n",
       "      <td>...</td>\n",
       "      <td>...</td>\n",
       "      <td>...</td>\n",
       "      <td>...</td>\n",
       "      <td>...</td>\n",
       "      <td>...</td>\n",
       "      <td>...</td>\n",
       "      <td>...</td>\n",
       "      <td>...</td>\n",
       "      <td>...</td>\n",
       "      <td>...</td>\n",
       "      <td>...</td>\n",
       "      <td>...</td>\n",
       "    </tr>\n",
       "    <tr>\n",
       "      <th>11611</th>\n",
       "      <td>0.00</td>\n",
       "      <td>0.679308</td>\n",
       "      <td>0.594203</td>\n",
       "      <td>0.549020</td>\n",
       "      <td>0.233076</td>\n",
       "      <td>0.902778</td>\n",
       "      <td>0.0</td>\n",
       "      <td>0.0</td>\n",
       "      <td>0.657534</td>\n",
       "      <td>0.829786</td>\n",
       "      <td>0.0</td>\n",
       "      <td>0.786359</td>\n",
       "      <td>0.335416</td>\n",
       "    </tr>\n",
       "    <tr>\n",
       "      <th>11612</th>\n",
       "      <td>0.00</td>\n",
       "      <td>0.682056</td>\n",
       "      <td>0.608696</td>\n",
       "      <td>0.549020</td>\n",
       "      <td>0.227506</td>\n",
       "      <td>0.869444</td>\n",
       "      <td>0.0</td>\n",
       "      <td>0.0</td>\n",
       "      <td>0.657534</td>\n",
       "      <td>0.829786</td>\n",
       "      <td>0.0</td>\n",
       "      <td>0.815901</td>\n",
       "      <td>0.257725</td>\n",
       "    </tr>\n",
       "    <tr>\n",
       "      <th>11613</th>\n",
       "      <td>0.00</td>\n",
       "      <td>0.683155</td>\n",
       "      <td>0.608696</td>\n",
       "      <td>0.549020</td>\n",
       "      <td>0.245073</td>\n",
       "      <td>0.850000</td>\n",
       "      <td>0.0</td>\n",
       "      <td>0.0</td>\n",
       "      <td>0.657534</td>\n",
       "      <td>0.829786</td>\n",
       "      <td>0.0</td>\n",
       "      <td>0.854450</td>\n",
       "      <td>0.185104</td>\n",
       "    </tr>\n",
       "    <tr>\n",
       "      <th>11614</th>\n",
       "      <td>0.00</td>\n",
       "      <td>0.684804</td>\n",
       "      <td>0.565217</td>\n",
       "      <td>0.549020</td>\n",
       "      <td>0.251071</td>\n",
       "      <td>0.838889</td>\n",
       "      <td>0.0</td>\n",
       "      <td>0.0</td>\n",
       "      <td>0.643835</td>\n",
       "      <td>0.829786</td>\n",
       "      <td>0.0</td>\n",
       "      <td>0.910639</td>\n",
       "      <td>0.124392</td>\n",
       "    </tr>\n",
       "    <tr>\n",
       "      <th>11615</th>\n",
       "      <td>0.00</td>\n",
       "      <td>0.686178</td>\n",
       "      <td>0.565217</td>\n",
       "      <td>0.549020</td>\n",
       "      <td>0.257926</td>\n",
       "      <td>0.825000</td>\n",
       "      <td>0.0</td>\n",
       "      <td>0.0</td>\n",
       "      <td>0.643835</td>\n",
       "      <td>0.829786</td>\n",
       "      <td>0.0</td>\n",
       "      <td>0.993449</td>\n",
       "      <td>0.089743</td>\n",
       "    </tr>\n",
       "  </tbody>\n",
       "</table>\n",
       "<p>11616 rows × 13 columns</p>\n",
       "</div>"
      ],
      "text/plain": [
       "         0         1         2         3         4         5    6    7   \\\n",
       "0      0.06  0.721352  0.898551  0.431373  0.126821  0.450000  0.0  0.0   \n",
       "1      0.07  0.717230  0.927536  0.431373  0.133248  0.441667  0.0  0.0   \n",
       "2      0.17  0.720253  0.942029  0.411765  0.122965  0.447222  0.0  0.0   \n",
       "3      1.00  0.725749  0.942029  0.411765  0.117395  0.436111  0.0  0.0   \n",
       "4      1.00  0.729871  0.927536  0.411765  0.115253  0.433333  0.0  0.0   \n",
       "...     ...       ...       ...       ...       ...       ...  ...  ...   \n",
       "11611  0.00  0.679308  0.594203  0.549020  0.233076  0.902778  0.0  0.0   \n",
       "11612  0.00  0.682056  0.608696  0.549020  0.227506  0.869444  0.0  0.0   \n",
       "11613  0.00  0.683155  0.608696  0.549020  0.245073  0.850000  0.0  0.0   \n",
       "11614  0.00  0.684804  0.565217  0.549020  0.251071  0.838889  0.0  0.0   \n",
       "11615  0.00  0.686178  0.565217  0.549020  0.257926  0.825000  0.0  0.0   \n",
       "\n",
       "             8         9    10        11        12  \n",
       "0      0.794519  0.829786  0.0  0.003232  0.295698  \n",
       "1      0.794519  0.829786  0.0  0.048040  0.315648  \n",
       "2      0.794519  0.829786  0.0  0.087732  0.354414  \n",
       "3      0.780822  0.829786  0.0  0.121393  0.407472  \n",
       "4      0.794519  0.829786  0.0  0.149797  0.470608  \n",
       "...         ...       ...  ...       ...       ...  \n",
       "11611  0.657534  0.829786  0.0  0.786359  0.335416  \n",
       "11612  0.657534  0.829786  0.0  0.815901  0.257725  \n",
       "11613  0.657534  0.829786  0.0  0.854450  0.185104  \n",
       "11614  0.643835  0.829786  0.0  0.910639  0.124392  \n",
       "11615  0.643835  0.829786  0.0  0.993449  0.089743  \n",
       "\n",
       "[11616 rows x 13 columns]"
      ]
     },
     "execution_count": 248,
     "metadata": {},
     "output_type": "execute_result"
    }
   ],
   "source": [
    "# real_weather & pred_weather 오차\n",
    "weather = pd.read_csv(\"./OIBC2023_data/weather_forecast.csv\")\n",
    "weather = weather[weather['round']==1].drop(['round','time'],axis=1)\n",
    "# pca = PCA(n_components = 13)\n",
    "# weather = pca.fit_transform(weather)\n",
    "# ss = StandardScaler()\n",
    "ss = MinMaxScaler()\n",
    "ss_weather = pd.DataFrame(ss.fit_transform(weather))\n",
    "ss_weather\n",
    "\n",
    "# ss_weather = pd.concat([ss_weather, (weather-weather_real)/(weather_real.min()-weather_real.max())],axis=1)"
   ]
  },
  {
   "cell_type": "markdown",
   "metadata": {},
   "source": [
    "### Round1의 Expert model 결과값 전처리"
   ]
  },
  {
   "cell_type": "code",
   "execution_count": 249,
   "metadata": {},
   "outputs": [
    {
     "data": {
      "text/html": [
       "<div>\n",
       "<style scoped>\n",
       "    .dataframe tbody tr th:only-of-type {\n",
       "        vertical-align: middle;\n",
       "    }\n",
       "\n",
       "    .dataframe tbody tr th {\n",
       "        vertical-align: top;\n",
       "    }\n",
       "\n",
       "    .dataframe thead th {\n",
       "        text-align: right;\n",
       "    }\n",
       "</style>\n",
       "<table border=\"1\" class=\"dataframe\">\n",
       "  <thead>\n",
       "    <tr style=\"text-align: right;\">\n",
       "      <th></th>\n",
       "      <th>model0</th>\n",
       "      <th>model1</th>\n",
       "      <th>model2</th>\n",
       "      <th>model3</th>\n",
       "      <th>model4</th>\n",
       "    </tr>\n",
       "  </thead>\n",
       "  <tbody>\n",
       "    <tr>\n",
       "      <th>0</th>\n",
       "      <td>0.0</td>\n",
       "      <td>0.0</td>\n",
       "      <td>0.0</td>\n",
       "      <td>0.0</td>\n",
       "      <td>0.0</td>\n",
       "    </tr>\n",
       "    <tr>\n",
       "      <th>1</th>\n",
       "      <td>0.0</td>\n",
       "      <td>0.0</td>\n",
       "      <td>0.0</td>\n",
       "      <td>0.0</td>\n",
       "      <td>0.0</td>\n",
       "    </tr>\n",
       "    <tr>\n",
       "      <th>2</th>\n",
       "      <td>0.0</td>\n",
       "      <td>0.0</td>\n",
       "      <td>0.0</td>\n",
       "      <td>0.0</td>\n",
       "      <td>0.0</td>\n",
       "    </tr>\n",
       "    <tr>\n",
       "      <th>3</th>\n",
       "      <td>0.0</td>\n",
       "      <td>0.0</td>\n",
       "      <td>0.0</td>\n",
       "      <td>0.0</td>\n",
       "      <td>0.0</td>\n",
       "    </tr>\n",
       "    <tr>\n",
       "      <th>4</th>\n",
       "      <td>0.0</td>\n",
       "      <td>0.0</td>\n",
       "      <td>0.0</td>\n",
       "      <td>0.0</td>\n",
       "      <td>0.0</td>\n",
       "    </tr>\n",
       "    <tr>\n",
       "      <th>...</th>\n",
       "      <td>...</td>\n",
       "      <td>...</td>\n",
       "      <td>...</td>\n",
       "      <td>...</td>\n",
       "      <td>...</td>\n",
       "    </tr>\n",
       "    <tr>\n",
       "      <th>11611</th>\n",
       "      <td>0.0</td>\n",
       "      <td>0.0</td>\n",
       "      <td>0.0</td>\n",
       "      <td>0.0</td>\n",
       "      <td>0.0</td>\n",
       "    </tr>\n",
       "    <tr>\n",
       "      <th>11612</th>\n",
       "      <td>0.0</td>\n",
       "      <td>0.0</td>\n",
       "      <td>0.0</td>\n",
       "      <td>0.0</td>\n",
       "      <td>0.0</td>\n",
       "    </tr>\n",
       "    <tr>\n",
       "      <th>11613</th>\n",
       "      <td>0.0</td>\n",
       "      <td>0.0</td>\n",
       "      <td>0.0</td>\n",
       "      <td>0.0</td>\n",
       "      <td>0.0</td>\n",
       "    </tr>\n",
       "    <tr>\n",
       "      <th>11614</th>\n",
       "      <td>0.0</td>\n",
       "      <td>0.0</td>\n",
       "      <td>0.0</td>\n",
       "      <td>0.0</td>\n",
       "      <td>0.0</td>\n",
       "    </tr>\n",
       "    <tr>\n",
       "      <th>11615</th>\n",
       "      <td>0.0</td>\n",
       "      <td>0.0</td>\n",
       "      <td>0.0</td>\n",
       "      <td>0.0</td>\n",
       "      <td>0.0</td>\n",
       "    </tr>\n",
       "  </tbody>\n",
       "</table>\n",
       "<p>11616 rows × 5 columns</p>\n",
       "</div>"
      ],
      "text/plain": [
       "       model0  model1  model2  model3  model4\n",
       "0         0.0     0.0     0.0     0.0     0.0\n",
       "1         0.0     0.0     0.0     0.0     0.0\n",
       "2         0.0     0.0     0.0     0.0     0.0\n",
       "3         0.0     0.0     0.0     0.0     0.0\n",
       "4         0.0     0.0     0.0     0.0     0.0\n",
       "...       ...     ...     ...     ...     ...\n",
       "11611     0.0     0.0     0.0     0.0     0.0\n",
       "11612     0.0     0.0     0.0     0.0     0.0\n",
       "11613     0.0     0.0     0.0     0.0     0.0\n",
       "11614     0.0     0.0     0.0     0.0     0.0\n",
       "11615     0.0     0.0     0.0     0.0     0.0\n",
       "\n",
       "[11616 rows x 5 columns]"
      ]
     },
     "execution_count": 249,
     "metadata": {},
     "output_type": "execute_result"
    },
    {
     "data": {
      "image/png": "[encoded data removed]",
      "text/plain": [
       "<Figure size 640x480 with 1 Axes>"
      ]
     },
     "metadata": {},
     "output_type": "display_data"
    }
   ],
   "source": [
    "pred = pd.read_csv(\"./OIBC2023_data/pred.csv\")\n",
    "pred = pred[pred['round']==1].drop(['round', 'time'],axis=1)\n",
    "for i in range(5):\n",
    "    exec(f\"pred{i} = pred[pred['model_id']==i].drop(['model_id'], axis=1).reset_index(drop=True)\")\n",
    "    exec(f\"pred{i}.columns = ['model{i}']\")\n",
    "gen_pred = pd.concat([eval(f'pred{i}') for i in range(5)], axis=1)\n",
    "gen_pred.iloc[:300].plot()\n",
    "gen_pred"
   ]
  },
  {
   "cell_type": "markdown",
   "metadata": {},
   "source": [
    "### 실제 gen 값 전처리"
   ]
  },
  {
   "cell_type": "code",
   "execution_count": 250,
   "metadata": {},
   "outputs": [
    {
     "data": {
      "text/html": [
       "<div>\n",
       "<style scoped>\n",
       "    .dataframe tbody tr th:only-of-type {\n",
       "        vertical-align: middle;\n",
       "    }\n",
       "\n",
       "    .dataframe tbody tr th {\n",
       "        vertical-align: top;\n",
       "    }\n",
       "\n",
       "    .dataframe thead th {\n",
       "        text-align: right;\n",
       "    }\n",
       "</style>\n",
       "<table border=\"1\" class=\"dataframe\">\n",
       "  <thead>\n",
       "    <tr style=\"text-align: right;\">\n",
       "      <th></th>\n",
       "      <th>amount</th>\n",
       "    </tr>\n",
       "  </thead>\n",
       "  <tbody>\n",
       "    <tr>\n",
       "      <th>0</th>\n",
       "      <td>0.0</td>\n",
       "    </tr>\n",
       "    <tr>\n",
       "      <th>1</th>\n",
       "      <td>0.0</td>\n",
       "    </tr>\n",
       "    <tr>\n",
       "      <th>2</th>\n",
       "      <td>0.0</td>\n",
       "    </tr>\n",
       "    <tr>\n",
       "      <th>3</th>\n",
       "      <td>0.0</td>\n",
       "    </tr>\n",
       "    <tr>\n",
       "      <th>4</th>\n",
       "      <td>0.0</td>\n",
       "    </tr>\n",
       "    <tr>\n",
       "      <th>...</th>\n",
       "      <td>...</td>\n",
       "    </tr>\n",
       "    <tr>\n",
       "      <th>11611</th>\n",
       "      <td>0.0</td>\n",
       "    </tr>\n",
       "    <tr>\n",
       "      <th>11612</th>\n",
       "      <td>0.0</td>\n",
       "    </tr>\n",
       "    <tr>\n",
       "      <th>11613</th>\n",
       "      <td>0.0</td>\n",
       "    </tr>\n",
       "    <tr>\n",
       "      <th>11614</th>\n",
       "      <td>0.0</td>\n",
       "    </tr>\n",
       "    <tr>\n",
       "      <th>11615</th>\n",
       "      <td>0.0</td>\n",
       "    </tr>\n",
       "  </tbody>\n",
       "</table>\n",
       "<p>11616 rows × 1 columns</p>\n",
       "</div>"
      ],
      "text/plain": [
       "       amount\n",
       "0         0.0\n",
       "1         0.0\n",
       "2         0.0\n",
       "3         0.0\n",
       "4         0.0\n",
       "...       ...\n",
       "11611     0.0\n",
       "11612     0.0\n",
       "11613     0.0\n",
       "11614     0.0\n",
       "11615     0.0\n",
       "\n",
       "[11616 rows x 1 columns]"
      ]
     },
     "execution_count": 250,
     "metadata": {},
     "output_type": "execute_result"
    }
   ],
   "source": [
    "gen = pd.read_csv(\"./OIBC2023_data/gens.csv\").drop(['time'], axis=1)\n",
    "gen"
   ]
  },
  {
   "cell_type": "markdown",
   "metadata": {},
   "source": [
    "## 학습/검증 데이터 전처리"
   ]
  },
  {
   "cell_type": "code",
   "execution_count": 251,
   "metadata": {},
   "outputs": [
    {
     "data": {
      "text/plain": [
       "(torch.Size([11616, 13]), torch.Size([11616, 5]), torch.Size([11616, 1]))"
      ]
     },
     "execution_count": 251,
     "metadata": {},
     "output_type": "execute_result"
    }
   ],
   "source": [
    "ss_weather_dataset = torch.tensor(np.array(ss_weather)).type(torch.float32)\n",
    "gen_pred_dataset = torch.tensor(np.array(gen_pred)).type(torch.float32)\n",
    "gen_dataset = torch.tensor(np.array(gen)).type(torch.float32)\n",
    "ss_weather_dataset.shape, gen_pred_dataset.shape, gen_dataset.shape"
   ]
  },
  {
   "cell_type": "code",
   "execution_count": 252,
   "metadata": {},
   "outputs": [
    {
     "data": {
      "text/plain": [
       "torch.Size([11616, 19])"
      ]
     },
     "execution_count": 252,
     "metadata": {},
     "output_type": "execute_result"
    }
   ],
   "source": [
    "# weather_pred 13 & gen_pred 5 & gen 1 \n",
    "total_dataset = torch.cat([ss_weather_dataset, gen_pred_dataset, gen_dataset], dim=1)\n",
    "total_dataset.shape     "
   ]
  },
  {
   "cell_type": "code",
   "execution_count": 253,
   "metadata": {},
   "outputs": [
    {
     "data": {
      "text/plain": [
       "(torch.Size([10454, 19]), torch.Size([1162, 19]))"
      ]
     },
     "execution_count": 253,
     "metadata": {},
     "output_type": "execute_result"
    }
   ],
   "source": [
    "# 시간 고려 -> Train : Val = 앞 90% : 뒤 10%\n",
    "train_dataset = total_dataset[:-len(total_dataset)//10]\n",
    "val_dataset = total_dataset[-len(total_dataset)//10:]\n",
    "train_dataset.shape, val_dataset.shape"
   ]
  },
  {
   "cell_type": "code",
   "execution_count": 254,
   "metadata": {},
   "outputs": [],
   "source": [
    "# batch dataset(input_X : pred_weather, infer_X : pred_gen, true_Y : gen)\n",
    "def make_batch_dataset(train_dataset, batch_size = 1024):\n",
    "    batch_dataset = train_dataset[random.sample(range(len(train_dataset)), k=batch_size)]\n",
    "    batch_input_X = batch_dataset[:,:18]\n",
    "    batch_infer_X = batch_dataset[:,13:18]\n",
    "    batch_true_Y = batch_dataset[:,[18]]\n",
    "    return batch_input_X, batch_infer_X, batch_true_Y"
   ]
  },
  {
   "cell_type": "code",
   "execution_count": 255,
   "metadata": {},
   "outputs": [],
   "source": [
    "def make_validation_dataset(val_dataset):\n",
    "    batch_dataset = val_dataset\n",
    "    batch_input_X = batch_dataset[:,:18]\n",
    "    batch_infer_X = batch_dataset[:,13:18]\n",
    "    batch_true_Y = batch_dataset[:,[18]]\n",
    "    return batch_input_X, batch_infer_X, batch_true_Y"
   ]
  },
  {
   "cell_type": "markdown",
   "metadata": {},
   "source": [
    "# Loss Function"
   ]
  },
  {
   "cell_type": "code",
   "execution_count": 256,
   "metadata": {},
   "outputs": [],
   "source": [
    "############################# TEST 용도 ###############################\n",
    "batch_size = 1024\n",
    "batch_dataset = train_dataset[random.sample(range(len(train_dataset)), k=batch_size)]\n",
    "batch_input_X = batch_dataset[:,:18]\n",
    "batch_infer_X = batch_dataset[:,13:18]\n",
    "batch_true_Y = batch_dataset[:,[18]]\n",
    "batch_pred_Y = nn.ReLU()((batch_true_Y-3)*0.93)\n",
    "###################################################################"
   ]
  },
  {
   "cell_type": "code",
   "execution_count": 257,
   "metadata": {},
   "outputs": [],
   "source": [
    "def train_loss(batch_true_Y, batch_pred_Y):\n",
    "    # Utilization preprocess\n",
    "    batch_true_Y[batch_true_Y < 9.9] = 0\n",
    "\n",
    "    error_abs = torch.abs(batch_pred_Y - batch_true_Y)\n",
    "    # error_type1 = torch.square(error_abs[((error_abs/99*100)>6) & ((error_abs/99*100)<=8) & (batch_true_Y > 0)])\n",
    "    # error_type2 = torch.square(error_abs[((error_abs/99*100)>8) & (batch_true_Y > 0)])\n",
    "    # error_type1 = torch.abs(error_abs[((error_abs/99*100)>6) & ((error_abs/99*100)<=8) & (batch_true_Y > 0)])\n",
    "    # error_type2 = torch.abs(error_abs[((error_abs/99*100)>8) & (batch_true_Y > 0)])\n",
    "    error_type1 = torch.sqrt(error_abs[((error_abs/99*100)>6) & ((error_abs/99*100)<=8) & (batch_true_Y > 0)])\n",
    "    error_type2 = torch.sqrt(error_abs[((error_abs/99*100)>8) & (batch_true_Y > 0)])\n",
    "    cost_type1 = batch_true_Y[((error_abs/99*100)>6) & ((error_abs/99*100)<=8) & (batch_true_Y > 0)]\n",
    "    cost_type2 = batch_true_Y[((error_abs/99*100)>8) & (batch_true_Y > 0)] * 4\n",
    "    error_type1_num = len(cost_type1)\n",
    "    error_type2_num = len(cost_type2)\n",
    "    batch_size = len(batch_true_Y[batch_true_Y > 0])\n",
    "\n",
    "    # loss\n",
    "    if (error_type1_num != 0) and (error_type2_num != 0):\n",
    "        loss = (torch.sum(error_type1 * cost_type1) + torch.sum(error_type2 * cost_type2)) / (batch_size)\n",
    "    elif (error_type1_num != 0):\n",
    "        loss = torch.sum(error_type1 * cost_type1) / (batch_size)\n",
    "    elif (error_type2_num != 0):\n",
    "        loss = torch.sum(error_type2 * cost_type2) / (batch_size)\n",
    "    else:\n",
    "        loss = torch.tensor(0.)\n",
    "\n",
    "    return loss"
   ]
  },
  {
   "cell_type": "code",
   "execution_count": 258,
   "metadata": {},
   "outputs": [
    {
     "data": {
      "text/plain": [
       "tensor(196.9435)"
      ]
     },
     "execution_count": 258,
     "metadata": {},
     "output_type": "execute_result"
    }
   ],
   "source": [
    "train_loss(batch_true_Y, batch_pred_Y)"
   ]
  },
  {
   "cell_type": "code",
   "execution_count": 259,
   "metadata": {},
   "outputs": [],
   "source": [
    "def validation(val_batch_true_Y, val_batch_pred_Y):\n",
    "    val_true_Y = np.array(val_batch_true_Y.detach())\n",
    "    val_pred_Y = np.array(val_batch_pred_Y.detach())\n",
    "\n",
    "    val_true_Y[val_true_Y < 9.9] = 0\n",
    "\n",
    "    error_abs = np.abs(val_pred_Y - val_true_Y)\n",
    "    cost_type1 = val_true_Y[((error_abs/99*100)>6) & ((error_abs/99*100)<=8) & (val_true_Y > 0)]\n",
    "    cost_type2 = val_true_Y[((error_abs/99*100)>8) & (val_true_Y > 0)] * 4\n",
    "    full_incentive = np.sum(val_true_Y[(val_true_Y > 0)] * 4)\n",
    "    error_type1_num = len(cost_type1)\n",
    "    error_type2_num = len(cost_type2)\n",
    "\n",
    "    # loss\n",
    "    if (error_type1_num != 0) and (error_type2_num != 0):\n",
    "        loss = (np.sum(cost_type1) + np.sum(cost_type2))\n",
    "    elif (error_type1_num != 0):\n",
    "        loss = np.sum(cost_type1)\n",
    "    elif (error_type2_num != 0):\n",
    "        loss = np.sum(cost_type2)\n",
    "    else:\n",
    "        loss = 0.\n",
    "\n",
    "    \n",
    "    return loss, (1-loss/full_incentive)*100"
   ]
  },
  {
   "cell_type": "code",
   "execution_count": 260,
   "metadata": {},
   "outputs": [
    {
     "data": {
      "text/plain": [
       "(27965.207, 61.45181357860565)"
      ]
     },
     "execution_count": 260,
     "metadata": {},
     "output_type": "execute_result"
    }
   ],
   "source": [
    "validation(batch_true_Y, batch_pred_Y)"
   ]
  },
  {
   "cell_type": "code",
   "execution_count": 261,
   "metadata": {},
   "outputs": [
    {
     "data": {
      "text/plain": [
       "(44336.492, 39.7125780582428)"
      ]
     },
     "execution_count": 261,
     "metadata": {},
     "output_type": "execute_result"
    }
   ],
   "source": [
    "val_input_X, val_infer_X, val_true_Y = make_validation_dataset(val_dataset)\n",
    "validation(val_infer_X.mean(1).reshape(-1,1), val_true_Y)"
   ]
  },
  {
   "cell_type": "code",
   "execution_count": 262,
   "metadata": {},
   "outputs": [
    {
     "data": {
      "text/plain": [
       "(42327.094, 40.27444124221802)"
      ]
     },
     "execution_count": 262,
     "metadata": {},
     "output_type": "execute_result"
    }
   ],
   "source": [
    "val_input_X, val_infer_X, val_true_Y = make_validation_dataset(val_dataset)\n",
    "validation(val_infer_X[:,0].reshape(-1,1), val_true_Y)"
   ]
  },
  {
   "cell_type": "code",
   "execution_count": 263,
   "metadata": {},
   "outputs": [
    {
     "data": {
      "text/plain": [
       "(41282.633, 45.11997699737549)"
      ]
     },
     "execution_count": 263,
     "metadata": {},
     "output_type": "execute_result"
    }
   ],
   "source": [
    "val_input_X, val_infer_X, val_true_Y = make_validation_dataset(val_dataset)\n",
    "validation(val_infer_X[:,1].reshape(-1,1), val_true_Y)"
   ]
  },
  {
   "cell_type": "code",
   "execution_count": 264,
   "metadata": {},
   "outputs": [
    {
     "data": {
      "text/plain": [
       "(44529.098, 36.7592990398407)"
      ]
     },
     "execution_count": 264,
     "metadata": {},
     "output_type": "execute_result"
    }
   ],
   "source": [
    "val_input_X, val_infer_X, val_true_Y = make_validation_dataset(val_dataset)\n",
    "validation(val_infer_X[:,2].reshape(-1,1), val_true_Y)"
   ]
  },
  {
   "cell_type": "code",
   "execution_count": 265,
   "metadata": {},
   "outputs": [
    {
     "data": {
      "text/plain": [
       "(39977.332, 44.111400842666626)"
      ]
     },
     "execution_count": 265,
     "metadata": {},
     "output_type": "execute_result"
    }
   ],
   "source": [
    "val_input_X, val_infer_X, val_true_Y = make_validation_dataset(val_dataset)\n",
    "validation(val_infer_X[:,3].reshape(-1,1), val_true_Y)"
   ]
  },
  {
   "cell_type": "code",
   "execution_count": 266,
   "metadata": {},
   "outputs": [
    {
     "data": {
      "text/plain": [
       "(63651.79, 21.52915596961975)"
      ]
     },
     "execution_count": 266,
     "metadata": {},
     "output_type": "execute_result"
    }
   ],
   "source": [
    "val_input_X, val_infer_X, val_true_Y = make_validation_dataset(val_dataset)\n",
    "validation(val_infer_X[:,4].reshape(-1,1), val_true_Y)"
   ]
  },
  {
   "cell_type": "code",
   "execution_count": null,
   "metadata": {},
   "outputs": [],
   "source": []
  },
  {
   "cell_type": "markdown",
   "metadata": {},
   "source": [
    "### Loss 시각화"
   ]
  },
  {
   "cell_type": "code",
   "execution_count": 267,
   "metadata": {},
   "outputs": [
    {
     "data": {
      "text/plain": [
       "<matplotlib.legend.Legend at 0x190901d09a0>"
      ]
     },
     "execution_count": 267,
     "metadata": {},
     "output_type": "execute_result"
    },
    {
     "data": {
      "image/png": "[encoded data removed]",
      "text/plain": [
       "<Figure size 640x480 with 1 Axes>"
      ]
     },
     "metadata": {},
     "output_type": "display_data"
    }
   ],
   "source": [
    "train_pred_list = [i/100 for i in range(48500, 51500, 1)]\n",
    "true_y_list = torch.tensor([[500]])\n",
    "result = []\n",
    "for item in train_pred_list:\n",
    "    result.append(train_loss(true_y_list, torch.tensor([[item]])).item())\n",
    "plt.figure()\n",
    "plt.plot(train_pred_list, result, label = 'Loss')\n",
    "plt.scatter(x=[500], y=[0], c='r', zorder=2, label='true_gen', marker='*')\n",
    "plt.legend()"
   ]
  },
  {
   "cell_type": "markdown",
   "metadata": {},
   "source": [
    "# Model Architecture"
   ]
  },
  {
   "cell_type": "code",
   "execution_count": 268,
   "metadata": {},
   "outputs": [],
   "source": [
    "# class Cluster_model(nn.Module):\n",
    "\n",
    "#     def __init__(self):\n",
    "#         super(Cluster_model, self).__init__()\n",
    "#         self.fe = nn.Linear(18, 512)\n",
    "#         self.hidden1 = nn.Linear(512,512)\n",
    "#         self.hidden2 = nn.Linear(512,512)\n",
    "#         self.latent = nn.Linear(512, 5)\n",
    "#         self.softmax = nn.Softmax()\n",
    "#         self.dropout = nn.Dropout(p=0.2)\n",
    "#         # self.last = nn.Linear(1, 1)\n",
    "#         self.relu = nn.ReLU()\n",
    "\n",
    "#     def forward(self, x, x1):\n",
    "#         batch_size = len(x)\n",
    "#         x = self.fe(x)\n",
    "#         x = self.relu(x)\n",
    "#         x = self.hidden1(x)\n",
    "#         x = self.dropout(x)\n",
    "#         x = self.relu(x)\n",
    "#         x = self.hidden2(x)\n",
    "#         x = self.dropout(x)\n",
    "#         x = self.relu(x)\n",
    "#         f = self.latent(x)\n",
    "#         f = self.softmax(f)\n",
    "#         x = torch.sum(f*x1, 1).reshape(batch_size, -1)\n",
    "#         # x = self.last(x)\n",
    "#         x = self.relu(x)\n",
    "#         return x"
   ]
  },
  {
   "cell_type": "code",
   "execution_count": 272,
   "metadata": {},
   "outputs": [],
   "source": [
    "class Cluster_model(nn.Module):\n",
    "\n",
    "    def __init__(self):\n",
    "        super(Cluster_model, self).__init__()\n",
    "        self.fe = nn.Linear(18, 512)\n",
    "        self.hidden1 = nn.Linear(512,512)\n",
    "        self.hidden2 = nn.Linear(512,512)\n",
    "        self.latent = nn.Linear(512, 5)\n",
    "        self.softmax = nn.Softmax()\n",
    "        self.dropout = nn.Dropout(p=0.5)\n",
    "        # self.last = nn.Linear(1, 1)\n",
    "        self.relu = nn.ReLU()\n",
    "\n",
    "    def forward(self, x, x1):\n",
    "        batch_size = len(x)\n",
    "        x = self.fe(x)\n",
    "        x = self.dropout(x)\n",
    "        x = self.relu(x)\n",
    "        x = self.hidden1(x)\n",
    "        x = self.dropout(x)\n",
    "        x = self.relu(x)\n",
    "        x = self.hidden2(x)\n",
    "        x = self.dropout(x)\n",
    "        x = self.relu(x)\n",
    "        f = self.latent(x)\n",
    "        # f = self.softmax(f)\n",
    "        x = torch.sum(f*x1, 1).reshape(batch_size, -1)\n",
    "        # x = self.last(x)\n",
    "        x = self.relu(x)\n",
    "        return x"
   ]
  },
  {
   "cell_type": "code",
   "execution_count": 277,
   "metadata": {},
   "outputs": [
    {
     "name": "stdout",
     "output_type": "stream",
     "text": [
      "epoch : 1, efficiency: 18.33%, loss : 62480.0\n",
      "epoch : 2, efficiency: 19.55%, loss : 61545.0\n",
      "epoch : 3, efficiency: 21.34%, loss : 60172.0\n",
      "epoch : 6, efficiency: 23.40%, loss : 58600.0\n",
      "epoch : 12, efficiency: 25.16%, loss : 57249.0\n",
      "epoch : 16, efficiency: 25.96%, loss : 56639.0\n",
      "epoch : 20, efficiency: 26.63%, loss : 56128.0\n",
      "epoch : 27, efficiency: 27.49%, loss : 55470.0\n",
      "epoch : 28, efficiency: 28.48%, loss : 54715.0\n",
      "epoch : 29, efficiency: 28.51%, loss : 54693.0\n",
      "epoch : 35, efficiency: 28.74%, loss : 54510.5\n",
      "epoch : 36, efficiency: 29.51%, loss : 53927.0\n",
      "epoch : 44, efficiency: 29.98%, loss : 53564.0\n",
      "epoch : 49, efficiency: 30.46%, loss : 53199.0\n",
      "epoch : 54, efficiency: 32.05%, loss : 51981.5\n",
      "epoch : 58, efficiency: 32.42%, loss : 51702.5\n",
      "epoch : 66, efficiency: 34.35%, loss : 50222.0\n",
      "epoch : 77, efficiency: 34.35%, loss : 50221.5\n",
      "epoch : 94, efficiency: 34.44%, loss : 50153.5\n",
      "epoch : 95, efficiency: 34.66%, loss : 49983.0\n",
      "epoch : 102, efficiency: 34.82%, loss : 49859.5\n",
      "epoch : 116, efficiency: 35.84%, loss : 49083.0\n",
      "epoch : 252, efficiency: 36.71%, loss : 48413.5\n",
      "epoch : 254, efficiency: 36.73%, loss : 48402.5\n",
      "epoch : 354, efficiency: 38.46%, loss : 47077.0\n",
      "epoch : 372, efficiency: 38.77%, loss : 46844.0\n",
      "epoch : 389, efficiency: 39.13%, loss : 46567.0\n",
      "epoch : 390, efficiency: 39.18%, loss : 46525.0\n",
      "epoch : 430, efficiency: 39.45%, loss : 46317.0\n",
      "epoch : 436, efficiency: 39.53%, loss : 46262.5\n",
      "epoch : 437, efficiency: 39.75%, loss : 46088.5\n",
      "epoch : 459, efficiency: 40.11%, loss : 45815.5\n",
      "epoch : 461, efficiency: 40.80%, loss : 45284.5\n",
      "epoch : 510, efficiency: 41.50%, loss : 44755.0\n",
      "epoch : 547, efficiency: 41.89%, loss : 44454.0\n",
      "epoch : 563, efficiency: 41.98%, loss : 44388.0\n",
      "epoch : 631, efficiency: 42.21%, loss : 44206.0\n",
      "epoch : 676, efficiency: 42.72%, loss : 43820.0\n",
      "epoch : 743, efficiency: 42.89%, loss : 43691.0\n",
      "epoch : 754, efficiency: 43.57%, loss : 43169.0\n",
      "epoch : 760, efficiency: 43.67%, loss : 43090.0\n",
      "epoch : 772, efficiency: 44.22%, loss : 42671.0\n",
      "epoch : 809, efficiency: 44.38%, loss : 42553.0\n",
      "epoch : 810, efficiency: 44.91%, loss : 42142.0\n",
      "epoch : 896, efficiency: 45.13%, loss : 41976.0\n",
      "epoch : 909, efficiency: 45.65%, loss : 41575.0\n",
      "epoch : 910, efficiency: 45.85%, loss : 41422.0\n",
      "epoch : 1017, efficiency: 46.33%, loss : 41057.0\n",
      "epoch : 1038, efficiency: 46.34%, loss : 41048.0\n",
      "epoch : 1054, efficiency: 46.72%, loss : 40757.0\n",
      "epoch : 1113, efficiency: 46.73%, loss : 40755.0\n",
      "epoch : 1164, efficiency: 47.17%, loss : 40413.0\n",
      "epoch : 1238, efficiency: 47.94%, loss : 39823.0\n",
      "epoch : 1249, efficiency: 49.26%, loss : 38816.0\n",
      "epoch : 1564, efficiency: 49.74%, loss : 38446.0\n",
      "epoch : 1873, efficiency: 49.83%, loss : 38377.5\n",
      "epoch : 1925, efficiency: 50.19%, loss : 38106.0\n",
      "epoch : 2070, efficiency: 50.98%, loss : 37504.0\n",
      "epoch : 2321, efficiency: 51.02%, loss : 37469.0\n",
      "epoch : 2339, efficiency: 51.03%, loss : 37464.0\n",
      "epoch : 2356, efficiency: 51.12%, loss : 37396.0\n",
      "epoch : 2531, efficiency: 51.47%, loss : 37127.0\n",
      "epoch : 2783, efficiency: 51.84%, loss : 36845.0\n",
      "epoch : 2997, efficiency: 52.58%, loss : 36279.5\n",
      "epoch : 2998, efficiency: 52.74%, loss : 36150.5\n",
      "epoch : 3399, efficiency: 53.09%, loss : 35888.0\n",
      "epoch : 3553, efficiency: 53.33%, loss : 35705.0\n",
      "epoch : 3822, efficiency: 53.88%, loss : 35285.0\n",
      "epoch : 3840, efficiency: 54.22%, loss : 35022.0\n",
      "epoch : 5852, efficiency: 54.72%, loss : 34643.0\n",
      "epoch : 8104, efficiency: 54.82%, loss : 34560.0\n",
      "epoch : 8138, efficiency: 54.84%, loss : 34549.0\n",
      "epoch : 8374, efficiency: 54.92%, loss : 34490.0\n",
      "epoch : 10515, efficiency: 55.06%, loss : 34376.0\n",
      "epoch : 10597, efficiency: 55.45%, loss : 34078.0\n",
      "epoch : 11714, efficiency: 55.63%, loss : 33942.0\n"
     ]
    },
    {
     "ename": "KeyboardInterrupt",
     "evalue": "",
     "output_type": "error",
     "traceback": [
      "\u001b[1;31m---------------------------------------------------------------------------\u001b[0m",
      "\u001b[1;31mKeyboardInterrupt\u001b[0m                         Traceback (most recent call last)",
      "\u001b[1;32mc:\\Users\\Lenovo\\Desktop\\OIBC2023_data\\Train.ipynb Cell 35\u001b[0m line \u001b[0;36m1\n\u001b[0;32m     <a href='vscode-notebook-cell:/c%3A/Users/Lenovo/Desktop/OIBC2023_data/Train.ipynb#X46sZmlsZQ%3D%3D?line=16'>17</a>\u001b[0m batch_pred_Y \u001b[39m=\u001b[39m model(batch_input_X, batch_infer_X)\n\u001b[0;32m     <a href='vscode-notebook-cell:/c%3A/Users/Lenovo/Desktop/OIBC2023_data/Train.ipynb#X46sZmlsZQ%3D%3D?line=17'>18</a>\u001b[0m loss \u001b[39m=\u001b[39m train_loss(batch_true_Y, batch_pred_Y)\n\u001b[1;32m---> <a href='vscode-notebook-cell:/c%3A/Users/Lenovo/Desktop/OIBC2023_data/Train.ipynb#X46sZmlsZQ%3D%3D?line=18'>19</a>\u001b[0m loss\u001b[39m.\u001b[39;49mbackward()\n\u001b[0;32m     <a href='vscode-notebook-cell:/c%3A/Users/Lenovo/Desktop/OIBC2023_data/Train.ipynb#X46sZmlsZQ%3D%3D?line=19'>20</a>\u001b[0m optimizer\u001b[39m.\u001b[39mstep()\n\u001b[0;32m     <a href='vscode-notebook-cell:/c%3A/Users/Lenovo/Desktop/OIBC2023_data/Train.ipynb#X46sZmlsZQ%3D%3D?line=22'>23</a>\u001b[0m model\u001b[39m.\u001b[39meval()\n",
      "File \u001b[1;32m~\\AppData\\Local\\Packages\\PythonSoftwareFoundation.Python.3.9_qbz5n2kfra8p0\\LocalCache\\local-packages\\Python39\\site-packages\\torch\\_tensor.py:487\u001b[0m, in \u001b[0;36mTensor.backward\u001b[1;34m(self, gradient, retain_graph, create_graph, inputs)\u001b[0m\n\u001b[0;32m    477\u001b[0m \u001b[39mif\u001b[39;00m has_torch_function_unary(\u001b[39mself\u001b[39m):\n\u001b[0;32m    478\u001b[0m     \u001b[39mreturn\u001b[39;00m handle_torch_function(\n\u001b[0;32m    479\u001b[0m         Tensor\u001b[39m.\u001b[39mbackward,\n\u001b[0;32m    480\u001b[0m         (\u001b[39mself\u001b[39m,),\n\u001b[1;32m   (...)\u001b[0m\n\u001b[0;32m    485\u001b[0m         inputs\u001b[39m=\u001b[39minputs,\n\u001b[0;32m    486\u001b[0m     )\n\u001b[1;32m--> 487\u001b[0m torch\u001b[39m.\u001b[39;49mautograd\u001b[39m.\u001b[39;49mbackward(\n\u001b[0;32m    488\u001b[0m     \u001b[39mself\u001b[39;49m, gradient, retain_graph, create_graph, inputs\u001b[39m=\u001b[39;49minputs\n\u001b[0;32m    489\u001b[0m )\n",
      "File \u001b[1;32m~\\AppData\\Local\\Packages\\PythonSoftwareFoundation.Python.3.9_qbz5n2kfra8p0\\LocalCache\\local-packages\\Python39\\site-packages\\torch\\autograd\\__init__.py:200\u001b[0m, in \u001b[0;36mbackward\u001b[1;34m(tensors, grad_tensors, retain_graph, create_graph, grad_variables, inputs)\u001b[0m\n\u001b[0;32m    195\u001b[0m     retain_graph \u001b[39m=\u001b[39m create_graph\n\u001b[0;32m    197\u001b[0m \u001b[39m# The reason we repeat same the comment below is that\u001b[39;00m\n\u001b[0;32m    198\u001b[0m \u001b[39m# some Python versions print out the first line of a multi-line function\u001b[39;00m\n\u001b[0;32m    199\u001b[0m \u001b[39m# calls in the traceback and some print out the last line\u001b[39;00m\n\u001b[1;32m--> 200\u001b[0m Variable\u001b[39m.\u001b[39;49m_execution_engine\u001b[39m.\u001b[39;49mrun_backward(  \u001b[39m# Calls into the C++ engine to run the backward pass\u001b[39;49;00m\n\u001b[0;32m    201\u001b[0m     tensors, grad_tensors_, retain_graph, create_graph, inputs,\n\u001b[0;32m    202\u001b[0m     allow_unreachable\u001b[39m=\u001b[39;49m\u001b[39mTrue\u001b[39;49;00m, accumulate_grad\u001b[39m=\u001b[39;49m\u001b[39mTrue\u001b[39;49;00m)\n",
      "\u001b[1;31mKeyboardInterrupt\u001b[0m: "
     ]
    }
   ],
   "source": [
    "model = Cluster_model()\n",
    "import copy\n",
    "epoch = 1000000\n",
    "lr = 1e-5\n",
    "optimizer = optim.Adam(model.parameters(), lr=lr)\n",
    "batch_size = 512\n",
    "best_val_loss = 10000000000\n",
    "best_accuracy = 0\n",
    "best_model = None\n",
    "\n",
    "val_input_X, val_infer_X, val_true_Y = make_validation_dataset(val_dataset)\n",
    "\n",
    "for epoch_idx in range(epoch):\n",
    "    model.train()\n",
    "    optimizer.zero_grad()\n",
    "    batch_input_X, batch_infer_X, batch_true_Y = make_batch_dataset(train_dataset, batch_size)\n",
    "    batch_pred_Y = model(batch_input_X, batch_infer_X)\n",
    "    loss = train_loss(batch_true_Y, batch_pred_Y)\n",
    "    loss.backward()\n",
    "    optimizer.step()\n",
    "\n",
    "    \n",
    "    model.eval()\n",
    "    val_loss, val_accuracy = validation(val_true_Y, model(val_input_X, val_infer_X))\n",
    "    if val_loss < best_val_loss:\n",
    "        best_val_loss = val_loss\n",
    "        best_accuracy = val_accuracy\n",
    "        print(f\"epoch : {epoch_idx+1}, efficiency: {best_accuracy:.2f}%, loss : {best_val_loss}\")\n",
    "        best_model = copy.deepcopy(model)\n",
    "        torch.save(best_model, \"best_model_round1.pt\")"
   ]
  },
  {
   "cell_type": "markdown",
   "metadata": {},
   "source": [
    "# Inference"
   ]
  },
  {
   "cell_type": "code",
   "execution_count": 278,
   "metadata": {},
   "outputs": [],
   "source": [
    "test_weather = pd.read_csv(\"./OIBC2023_data/weather_fcst_10.csv\")\n",
    "test_weather = test_weather.drop(['time'],axis=1)\n",
    "test_weather = test_weather\n",
    "ss_test_weather = pd.DataFrame(ss.transform(test_weather), columns=test_weather.columns)\n",
    "\n",
    "\n",
    "test_pred = pd.read_csv(\"./OIBC2023_data/gen_fcst_10.csv\")\n",
    "gen_test_pred = test_pred.drop(['time'],axis=1)\n",
    "\n",
    "\n",
    "ss_test_weather_dataset = torch.tensor(np.array(ss_test_weather)).type(torch.float32)\n",
    "gen_test_pred_dataset = torch.tensor(np.array(gen_test_pred)).type(torch.float32)\n",
    "\n",
    "total_test_dataset = torch.cat([ss_test_weather_dataset, gen_test_pred_dataset], dim=1)\n",
    "\n",
    "best_model.eval()\n",
    "pred_y = best_model(total_test_dataset, gen_test_pred_dataset)"
   ]
  },
  {
   "cell_type": "code",
   "execution_count": 279,
   "metadata": {},
   "outputs": [],
   "source": [
    "true_y_list = [[0.] for i in range(8)] + [[36.], [46.],[53.],[74.],[89.],[81.],[64.],[54.],[23.]] + [[0.] for i in range(7)]\n",
    "true_y = torch.tensor(true_y_list).type(torch.float32)"
   ]
  },
  {
   "cell_type": "code",
   "execution_count": 280,
   "metadata": {},
   "outputs": [
    {
     "data": {
      "text/plain": [
       "(989.0, 52.45192348957062)"
      ]
     },
     "execution_count": 280,
     "metadata": {},
     "output_type": "execute_result"
    }
   ],
   "source": [
    "validation(true_y, pred_y)"
   ]
  },
  {
   "cell_type": "code",
   "execution_count": null,
   "metadata": {},
   "outputs": [
    {
     "data": {
      "text/plain": [
       "1054.9759999999999"
      ]
     },
     "execution_count": 78,
     "metadata": {},
     "output_type": "execute_result"
    }
   ],
   "source": [
    "2080*(0.5072)"
   ]
  },
  {
   "cell_type": "code",
   "execution_count": null,
   "metadata": {},
   "outputs": [],
   "source": []
  }
 ],
 "metadata": {
  "kernelspec": {
   "display_name": "Python 3",
   "language": "python",
   "name": "python3"
  },
  "language_info": {
   "codemirror_mode": {
    "name": "ipython",
    "version": 3
   },
   "file_extension": ".py",
   "mimetype": "text/x-python",
   "name": "python",
   "nbconvert_exporter": "python",
   "pygments_lexer": "ipython3",
   "version": "3.9.13"
  }
 },
 "nbformat": 4,
 "nbformat_minor": 2
}
